{
  "cells": [
    {
      "cell_type": "markdown",
      "metadata": {
        "id": "Cg047ujRBmtU"
      },
      "source": [
        "# Decision Trees Exercise\n",
        "In this exercise you will show that ID3 is sub-optimal. Implement a simple version of Decision Tree, and will then apply a Decision Tree classsifier on the MNIST hand written digits dataset that we already saw.\n"
      ]
    },
    {
      "cell_type": "markdown",
      "metadata": {
        "id": "tLXpoHg64HlD"
      },
      "source": [
        "## Implementing Decision Tree From Scratch\n",
        "We will implement a simple version of a Decision Tree from scratch. The tree will be able to handle **continuous input and output** (this should actually work also for binary input attributes).\n"
      ]
    },
    {
      "cell_type": "code",
      "execution_count": 1,
      "metadata": {
        "id": "UHd7l9rIYoVX"
      },
      "outputs": [],
      "source": [
        "import numpy as np\n",
        "from scipy.spatial.distance import squareform\n",
        "from scipy.cluster import hierarchy\n",
        "import pandas as pd\n",
        "import matplotlib.pyplot as plt\n",
        "%matplotlib inline"
      ]
    },
    {
      "cell_type": "code",
      "execution_count": 2,
      "metadata": {
        "id": "3O5bJ0T7YoVY"
      },
      "outputs": [],
      "source": [
        "from sklearn.datasets import load_boston\n"
      ]
    },
    {
      "cell_type": "code",
      "execution_count": 3,
      "metadata": {
        "id": "19tGJc8VYoVZ",
        "outputId": "3adb9db4-7d17-443d-8635-e21b3192db9f"
      },
      "outputs": [
        {
          "name": "stderr",
          "output_type": "stream",
          "text": [
            "C:\\Users\\sfrie\\anaconda3\\envs\\py4dp\\lib\\site-packages\\sklearn\\utils\\deprecation.py:87: FutureWarning: Function load_boston is deprecated; `load_boston` is deprecated in 1.0 and will be removed in 1.2.\n",
            "\n",
            "    The Boston housing prices dataset has an ethical problem. You can refer to\n",
            "    the documentation of this function for further details.\n",
            "\n",
            "    The scikit-learn maintainers therefore strongly discourage the use of this\n",
            "    dataset unless the purpose of the code is to study and educate about\n",
            "    ethical issues in data science and machine learning.\n",
            "\n",
            "    In this special case, you can fetch the dataset from the original\n",
            "    source::\n",
            "\n",
            "        import pandas as pd\n",
            "        import numpy as np\n",
            "\n",
            "\n",
            "        data_url = \"http://lib.stat.cmu.edu/datasets/boston\"\n",
            "        raw_df = pd.read_csv(data_url, sep=\"\\s+\", skiprows=22, header=None)\n",
            "        data = np.hstack([raw_df.values[::2, :], raw_df.values[1::2, :2]])\n",
            "        target = raw_df.values[1::2, 2]\n",
            "\n",
            "    Alternative datasets include the California housing dataset (i.e.\n",
            "    :func:`~sklearn.datasets.fetch_california_housing`) and the Ames housing\n",
            "    dataset. You can load the datasets as follows::\n",
            "\n",
            "        from sklearn.datasets import fetch_california_housing\n",
            "        housing = fetch_california_housing()\n",
            "\n",
            "    for the California housing dataset and::\n",
            "\n",
            "        from sklearn.datasets import fetch_openml\n",
            "        housing = fetch_openml(name=\"house_prices\", as_frame=True)\n",
            "\n",
            "    for the Ames housing dataset.\n",
            "    \n",
            "  warnings.warn(msg, category=FutureWarning)\n"
          ]
        },
        {
          "data": {
            "text/html": [
              "<div>\n",
              "<style scoped>\n",
              "    .dataframe tbody tr th:only-of-type {\n",
              "        vertical-align: middle;\n",
              "    }\n",
              "\n",
              "    .dataframe tbody tr th {\n",
              "        vertical-align: top;\n",
              "    }\n",
              "\n",
              "    .dataframe thead th {\n",
              "        text-align: right;\n",
              "    }\n",
              "</style>\n",
              "<table border=\"1\" class=\"dataframe\">\n",
              "  <thead>\n",
              "    <tr style=\"text-align: right;\">\n",
              "      <th></th>\n",
              "      <th>CRIM</th>\n",
              "      <th>ZN</th>\n",
              "      <th>INDUS</th>\n",
              "      <th>CHAS</th>\n",
              "      <th>NOX</th>\n",
              "      <th>RM</th>\n",
              "      <th>AGE</th>\n",
              "      <th>DIS</th>\n",
              "      <th>RAD</th>\n",
              "      <th>TAX</th>\n",
              "      <th>PTRATIO</th>\n",
              "      <th>B</th>\n",
              "      <th>LSTAT</th>\n",
              "    </tr>\n",
              "  </thead>\n",
              "  <tbody>\n",
              "    <tr>\n",
              "      <th>0</th>\n",
              "      <td>0.00632</td>\n",
              "      <td>18.0</td>\n",
              "      <td>2.31</td>\n",
              "      <td>0.0</td>\n",
              "      <td>0.538</td>\n",
              "      <td>6.575</td>\n",
              "      <td>65.2</td>\n",
              "      <td>4.0900</td>\n",
              "      <td>1.0</td>\n",
              "      <td>296.0</td>\n",
              "      <td>15.3</td>\n",
              "      <td>396.90</td>\n",
              "      <td>4.98</td>\n",
              "    </tr>\n",
              "    <tr>\n",
              "      <th>1</th>\n",
              "      <td>0.02731</td>\n",
              "      <td>0.0</td>\n",
              "      <td>7.07</td>\n",
              "      <td>0.0</td>\n",
              "      <td>0.469</td>\n",
              "      <td>6.421</td>\n",
              "      <td>78.9</td>\n",
              "      <td>4.9671</td>\n",
              "      <td>2.0</td>\n",
              "      <td>242.0</td>\n",
              "      <td>17.8</td>\n",
              "      <td>396.90</td>\n",
              "      <td>9.14</td>\n",
              "    </tr>\n",
              "    <tr>\n",
              "      <th>2</th>\n",
              "      <td>0.02729</td>\n",
              "      <td>0.0</td>\n",
              "      <td>7.07</td>\n",
              "      <td>0.0</td>\n",
              "      <td>0.469</td>\n",
              "      <td>7.185</td>\n",
              "      <td>61.1</td>\n",
              "      <td>4.9671</td>\n",
              "      <td>2.0</td>\n",
              "      <td>242.0</td>\n",
              "      <td>17.8</td>\n",
              "      <td>392.83</td>\n",
              "      <td>4.03</td>\n",
              "    </tr>\n",
              "    <tr>\n",
              "      <th>3</th>\n",
              "      <td>0.03237</td>\n",
              "      <td>0.0</td>\n",
              "      <td>2.18</td>\n",
              "      <td>0.0</td>\n",
              "      <td>0.458</td>\n",
              "      <td>6.998</td>\n",
              "      <td>45.8</td>\n",
              "      <td>6.0622</td>\n",
              "      <td>3.0</td>\n",
              "      <td>222.0</td>\n",
              "      <td>18.7</td>\n",
              "      <td>394.63</td>\n",
              "      <td>2.94</td>\n",
              "    </tr>\n",
              "    <tr>\n",
              "      <th>4</th>\n",
              "      <td>0.06905</td>\n",
              "      <td>0.0</td>\n",
              "      <td>2.18</td>\n",
              "      <td>0.0</td>\n",
              "      <td>0.458</td>\n",
              "      <td>7.147</td>\n",
              "      <td>54.2</td>\n",
              "      <td>6.0622</td>\n",
              "      <td>3.0</td>\n",
              "      <td>222.0</td>\n",
              "      <td>18.7</td>\n",
              "      <td>396.90</td>\n",
              "      <td>5.33</td>\n",
              "    </tr>\n",
              "  </tbody>\n",
              "</table>\n",
              "</div>"
            ],
            "text/plain": [
              "      CRIM    ZN  INDUS  CHAS    NOX     RM   AGE     DIS  RAD    TAX  \\\n",
              "0  0.00632  18.0   2.31   0.0  0.538  6.575  65.2  4.0900  1.0  296.0   \n",
              "1  0.02731   0.0   7.07   0.0  0.469  6.421  78.9  4.9671  2.0  242.0   \n",
              "2  0.02729   0.0   7.07   0.0  0.469  7.185  61.1  4.9671  2.0  242.0   \n",
              "3  0.03237   0.0   2.18   0.0  0.458  6.998  45.8  6.0622  3.0  222.0   \n",
              "4  0.06905   0.0   2.18   0.0  0.458  7.147  54.2  6.0622  3.0  222.0   \n",
              "\n",
              "   PTRATIO       B  LSTAT  \n",
              "0     15.3  396.90   4.98  \n",
              "1     17.8  396.90   9.14  \n",
              "2     17.8  392.83   4.03  \n",
              "3     18.7  394.63   2.94  \n",
              "4     18.7  396.90   5.33  "
            ]
          },
          "execution_count": 3,
          "metadata": {},
          "output_type": "execute_result"
        }
      ],
      "source": [
        "X, y = load_boston(return_X_y = True);\n",
        "data = load_boston();\n",
        "df = pd.DataFrame(data.data, columns = data.feature_names);\n",
        "df.head()"
      ]
    },
    {
      "cell_type": "code",
      "execution_count": 4,
      "metadata": {
        "id": "oy-lex9LYoVa"
      },
      "outputs": [],
      "source": [
        "class Make_Node():\n",
        "    def __init__(self, feature_idx = None, threshold = None, left = None, right = None, variance = None, value = None):\n",
        "        self.feature_idx = feature_idx\n",
        "        self.threshold = threshold\n",
        "        self.left = left\n",
        "        self.right = right\n",
        "        self.variance = variance\n",
        "        self.value = value #For leaf node\n",
        "\n",
        "class RegressionTree():\n",
        "    def __init__(self, max_depth, min_split):\n",
        "        self.root = None\n",
        "        self.min_split = min_split\n",
        "        self.max_depth = max_depth\n",
        "\n",
        "\n",
        "    def split(self, df, feature_idx, threshold):\n",
        "        left_child = np.array([sample for sample in df if sample[feature_idx] <= threshold])\n",
        "        right_child = np.array([sample for sample in df if sample[feature_idx] > threshold])\n",
        "        return left_child, right_child\n",
        "\n",
        "    def train_squared_error(self, y, y_left, y_right):\n",
        "\n",
        "        weight_left = len(y_left) / len(y)\n",
        "        weight_right = len(y_right)/ len(y)\n",
        "        variance = weight_left * np.var(y_left) + weight_right * np.var(y_right)\n",
        "\n",
        "        #code says to subtract the parents error by the error fo the children. Not sure why we aren't just returning the variance of the children.\n",
        "        return variance \n",
        "\n",
        "\n",
        "\n",
        "    def get_leaf(self, y):\n",
        "        return np.mean(y)\n",
        "\n",
        "    def best_feature(self, df, n_samples, n_features):\n",
        "        best_split_dict = {}\n",
        "        max_reduction = np.inf #Change variable to max_trained_squared_error?\n",
        "\n",
        "        for feat_idx in range(n_features):\n",
        "            feat_vals = df[:, feat_idx]\n",
        "            threshold_options = np.unique(feat_vals)\n",
        "\n",
        "            for threshold in threshold_options:\n",
        "                left_child, right_child = self.split(df, feat_idx, threshold)\n",
        "            \n",
        "                if len(left_child) > 0 and len(right_child) > 0:\n",
        "                    y, left_y, right_y = df[:, -1], left_child[:, -1], right_child[:, -1]\n",
        "\n",
        "                    trained_squared_error = self.train_squared_error(y, left_y, right_y)\n",
        "\n",
        "                    if trained_squared_error < max_reduction: #We want minimum variance. (If the trained_error function were to subtract frm the variance of the parent, flip to greater than).\n",
        "                            best_split_dict[\"feature_idx\"] = feat_idx\n",
        "                            best_split_dict[\"threshold\"] = threshold\n",
        "                            best_split_dict[\"left_child\"] = left_child\n",
        "                            best_split_dict[\"right_child\"] = right_child\n",
        "                            best_split_dict[\"variance\"] = trained_squared_error\n",
        "                            max_reduction = trained_squared_error\n",
        "        \n",
        "        return best_split_dict\n",
        "\n",
        "\n",
        "    def fit(self, X, y):\n",
        "        df = np.concatenate((X, y), axis =1)\n",
        "        self.root = self.build_tree(df)\n",
        "\n",
        "\n",
        "\n",
        "    def build_tree(self, df, level = 0):\n",
        "        X, y = df[:, :-1], df[:,-1]\n",
        "        n_samples, n_features = np.shape(X)\n",
        "        best_split = {} #hold all features of the split in  dict.\n",
        "        if n_samples>= self.min_split and level <=self.max_depth:    #a1) Find the best feature for our tree to split on, if we haven't reached past our required tree size.\n",
        "\n",
        "            best_split = self.best_feature(df, n_samples, n_features)\n",
        "\n",
        "            if best_split['variance'] > 0:                          #a2) Split the tree based off this best feature into left and right subtrees\n",
        "                left_tree = self.build_tree(best_split['left_child'], level +1)\n",
        "                right_tree = self.build_tree(best_split['right_child'], level+1)\n",
        "\n",
        "                return Make_Node(best_split['feature_idx'], best_split['threshold'], left_tree, right_tree, best_split['variance']) #a3) Make current split into Parent Node\n",
        "        \n",
        "        leaf = self.get_leaf(y)                                      #b1) if tree size has already been reached, (or reduction = 0), then create and return a Leaf Node.\n",
        "\n",
        "        return Make_Node(value = leaf)\n",
        "\n",
        "\n",
        "  \n",
        "\n",
        "    def print_tree(self, tree=None, indent=\" \", columns = None, level = 0, child = 'root' ):\n",
        "            ''' function to print the tree '''\n",
        "            self.columns = columns\n",
        "            level+= 1\n",
        "\n",
        "            if not tree:\n",
        "                tree = self.root\n",
        "\n",
        "            if tree.value is not None: #If there is value, this means it is a leaf node: return the regression value in this leaf node.\n",
        "                print(' '*level*3, child, ': ',np.round(tree.value, 4))\n",
        "\n",
        "            else: #Perform Pre-order traversal-- Root, Left, Right, (leaf).\n",
        "                if self.columns is None: #If no column names were given, just print by column idx\n",
        "                    print(f'{child}: X_{str(tree.feature_idx)}, \"<=\", {tree.threshold}, \"?\", {tree.variance}')\n",
        "                    \n",
        "                else:\n",
        "                    print(' '*level*3, f'{child}: X_{self.columns[tree.feature_idx]}, \"<=\", {tree.threshold}, \"?\", {np.round(tree.variance, 4)}')\n",
        "\n",
        "                    # print(indent, \" |%sleft: \" % (indent))\n",
        "                    self.print_tree(tree.left, indent + indent, self.columns, level, child = 'left')\n",
        "                    # print(indent, \" |%sright :\" % (indent), end)\n",
        "                    self.print_tree(tree.right, indent + indent, self.columns, level, child = 'right')\n",
        "\n",
        "\n",
        "    def make_prediction(self, x, root):\n",
        "\n",
        "        if root.value:\n",
        "            return root.value\n",
        "        \n",
        "        if x[root.feature_idx] < root.threshold:\n",
        "            return self.make_prediction(x, root.left)\n",
        "\n",
        "        else:\n",
        "            return self.make_prediction(x, root.right)\n",
        "\n",
        "\n",
        "\n",
        "    def predict(self, X):\n",
        "        ''' function to predict a single data point '''\n",
        "        \n",
        "        predictions = [self.make_prediction(x, self.root) for x in X]\n",
        "        return predictions\n"
      ]
    },
    {
      "cell_type": "code",
      "execution_count": 5,
      "metadata": {
        "id": "IlKcsnJaYoVc"
      },
      "outputs": [],
      "source": [
        "X = df.iloc[:, :-1].values\n",
        "Y = df.iloc[:, -1].values.reshape(-1,1)\n",
        "from sklearn.model_selection import train_test_split\n",
        "X_train, X_test, Y_train, Y_test = train_test_split(X, Y, test_size=.2, random_state=41)"
      ]
    },
    {
      "cell_type": "code",
      "execution_count": 6,
      "metadata": {
        "id": "5CeR79NpYoVd",
        "outputId": "649d503b-fb16-4127-871f-09b7c946aeb1"
      },
      "outputs": [],
      "source": [
        "regressor = RegressionTree(min_split=2, max_depth=20)\n",
        "regressor.fit(X_train, Y_train)\n"
      ]
    },
    {
      "cell_type": "code",
      "execution_count": 7,
      "metadata": {
        "id": "DexvS8XcYoVd",
        "outputId": "54d7dd2a-9f7e-4142-cba0-66a20bdeb70c"
      },
      "outputs": [
        {
          "name": "stdout",
          "output_type": "stream",
          "text": [
            "min_leaf:2 --- oob mse: 55.08662720588235\n",
            "min_leaf:5 --- oob mse: 48.14092386982571\n",
            "min_leaf:10 --- oob mse: 50.37255103040444\n",
            "min_leaf:100 --- oob mse: 29.07709343474029\n"
          ]
        }
      ],
      "source": [
        "import matplotlib.pyplot as plt\n",
        "from sklearn.metrics import mean_squared_error\n",
        "for min_leaf in [2,5,10,100]: #Not working for values of 1 -- Need to fix this. Also, what should max depth be?\n",
        "      regressor = RegressionTree(min_split=min_leaf, max_depth=20)\n",
        "      regressor.fit(X_train, Y_train)\n",
        "      mse = mean_squared_error(Y_test, regressor.predict(X_test)) # mean square error over test set\n",
        "      print(\"min_leaf:{0} --- oob mse: {1}\".format(min_leaf, mse))\n",
        "\n"
      ]
    },
    {
      "cell_type": "code",
      "execution_count": 8,
      "metadata": {
        "id": "htqweeWxYoVe",
        "outputId": "efd952cd-eeed-448a-f504-6b9c4e6e7dd4"
      },
      "outputs": [
        {
          "data": {
            "text/plain": [
              "<matplotlib.collections.PathCollection at 0x1805aa90fc8>"
            ]
          },
          "execution_count": 8,
          "metadata": {},
          "output_type": "execute_result"
        },
        {
          "data": {
            "image/png": "[encoded data removed]",
            "text/plain": [
              "<Figure size 432x288 with 1 Axes>"
            ]
          },
          "metadata": {
            "needs_background": "light"
          },
          "output_type": "display_data"
        }
      ],
      "source": [
        "regressor = RegressionTree(min_split=100, max_depth=100)\n",
        "regressor.fit(X_train, Y_train)\n",
        "y_hat = regressor.predict(X_test)  # forest is the chosen model\n",
        "plt.scatter(y_hat, Y_test)"
      ]
    },
    {
      "cell_type": "code",
      "execution_count": 9,
      "metadata": {
        "id": "v_F6lvJxYoVe",
        "outputId": "293030f0-5e34-46f4-e03e-526d4cb1062f"
      },
      "outputs": [
        {
          "data": {
            "text/plain": [
              "<matplotlib.collections.PathCollection at 0x1805ae9fb48>"
            ]
          },
          "execution_count": 9,
          "metadata": {},
          "output_type": "execute_result"
        },
        {
          "data": {
            "image/png": "[encoded data removed]",
            "text/plain": [
              "<Figure size 432x288 with 1 Axes>"
            ]
          },
          "metadata": {
            "needs_background": "light"
          },
          "output_type": "display_data"
        }
      ],
      "source": [
        "from sklearn.tree import DecisionTreeRegressor\n",
        "\n",
        "\n",
        "tree = DecisionTreeRegressor(min_samples_split=100, max_depth=100) \n",
        "tree.fit(X_train, Y_train)\n",
        "y_pred = tree.predict(X_test)   \n",
        "plt.scatter(y_pred, Y_test)"
      ]
    },
    {
      "cell_type": "markdown",
      "metadata": {
        "id": "i5aEtA5cYoVf"
      },
      "source": [
        "We can see that we got quite similar results as sklearn"
      ]
    },
    {
      "cell_type": "markdown",
      "metadata": {
        "id": "TF5TjNuvTKof"
      },
      "source": [
        "## Using Decision Tree for Digits Classification\n",
        "Remeber the MNIST dataset used - you will now test the power of decision trees on this problem.\n",
        "This time you are given a free hand in choosing the test and train set sizes, model parameters (such as gain function and constraints over the trees) and features (whether to use binary pixel values or the original continous gray value).\n",
        "- Choose which model parameters you wish to optimize, explain how would you do that, and find a model which you believe would have the minimal generalization error --- do this for both a single decision tree model, and a random forest.\n",
        "  - You can use `sklearn.tree.DecisionTreeClassifier`\n",
        "- Once you are satisfied with the model parameters, plot the importance of each of the pixels to the final decision.\n",
        "- Last, estimate the class assignment probabilities for all the correctly classified and misclassified examples in your test data.\n",
        "- Discuss your results."
      ]
    },
    {
      "cell_type": "markdown",
      "metadata": {
        "id": "8-k9WpIV_n7Y",
        "pycharm": {
          "name": "#%%\n"
        }
      },
      "source": [
        "We will optimize max_depth, min_samples_leaf,  and the criterion (gini or entropy), using GridSearchCV"
      ]
    },
    {
      "cell_type": "code",
      "execution_count": 21,
      "metadata": {
        "id": "zzSyPTZgYoVg",
        "outputId": "fe122a4c-b399-45b3-b3af-088f48db470e"
      },
      "outputs": [],
      "source": [
        "from sklearn.model_selection import GridSearchCV\n",
        "from keras.datasets import mnist;\n",
        "from sklearn.tree import DecisionTreeClassifier\n",
        "from sklearn.metrics import ConfusionMatrixDisplay"
      ]
    },
    {
      "cell_type": "markdown",
      "metadata": {
        "id": "RlG-xknKYoVh"
      },
      "source": [
        "Because of lack of resources for calculations, we will take only 10,000 samples"
      ]
    },
    {
      "cell_type": "code",
      "execution_count": 12,
      "metadata": {
        "id": "ot5Zw7D0YoVh"
      },
      "outputs": [],
      "source": [
        "(x_train, y_train), (x_test, y_test) = mnist.load_data()\n",
        "x_train = [x.flatten() for x in x_train]\n",
        "x_test = [x.flatten() for x in x_test]\n",
        "\n",
        "x_train=x_train[0:10000]\n",
        "x_test=x_test[0:10000]\n",
        "\n",
        "y_train=y_train[0:10000]\n",
        "y_test=y_test[0:10000]"
      ]
    },
    {
      "cell_type": "markdown",
      "metadata": {
        "id": "2FE-nQl6YoVh"
      },
      "source": [
        "(The calculation takes about 5 minutes)"
      ]
    },
    {
      "cell_type": "code",
      "execution_count": 13,
      "metadata": {
        "id": "ZE0pkM2WYoVi",
        "outputId": "734bcd4c-4755-483e-ac31-7d020125467b"
      },
      "outputs": [
        {
          "name": "stdout",
          "output_type": "stream",
          "text": [
            "Fitting 4 folds for each of 32 candidates, totalling 128 fits\n"
          ]
        },
        {
          "data": {
            "text/plain": [
              "GridSearchCV(cv=4, estimator=DecisionTreeClassifier(random_state=42), n_jobs=-1,\n",
              "             param_grid={'criterion': ['gini', 'entropy'],\n",
              "                         'max_depth': [2, 5, 10, 100],\n",
              "                         'min_samples_leaf': [5, 10, 20, 100]},\n",
              "             scoring='accuracy', verbose=1)"
            ]
          },
          "execution_count": 13,
          "metadata": {},
          "output_type": "execute_result"
        }
      ],
      "source": [
        "dt = DecisionTreeClassifier(random_state=42)\n",
        "# Create the parameter grid based on the results of random search \n",
        "params = {\n",
        "    'max_depth': [2, 5, 10, 100],\n",
        "    'min_samples_leaf': [5, 10, 20, 100],\n",
        "    'criterion': [\"gini\", \"entropy\"]\n",
        "}\n",
        "\n",
        "grid_search = GridSearchCV(estimator=dt, \n",
        "                           param_grid=params, \n",
        "                           cv=4, n_jobs=-1, verbose=1, scoring = \"accuracy\")\n",
        "grid_search.fit(x_train, y_train)\n"
      ]
    },
    {
      "cell_type": "code",
      "execution_count": 14,
      "metadata": {
        "id": "jIyXd-FOYoVi",
        "outputId": "e1911ff1-8c64-4ee5-c54f-40a7821ed95d"
      },
      "outputs": [
        {
          "data": {
            "text/plain": [
              "DecisionTreeClassifier(criterion='entropy', max_depth=100, min_samples_leaf=5,\n",
              "                       random_state=42)"
            ]
          },
          "execution_count": 14,
          "metadata": {},
          "output_type": "execute_result"
        }
      ],
      "source": [
        "grid_search.best_estimator_"
      ]
    },
    {
      "cell_type": "markdown",
      "metadata": {},
      "source": [
        "### MNIST-- Decision Tree"
      ]
    },
    {
      "cell_type": "code",
      "execution_count": 15,
      "metadata": {
        "id": "Wen0XxbQYoVi",
        "outputId": "c0b63808-e30e-4661-d9d7-54b45496dfb9"
      },
      "outputs": [
        {
          "name": "stdout",
          "output_type": "stream",
          "text": [
            "              precision    recall  f1-score   support\n",
            "\n",
            "           0       0.89      0.93      0.91       980\n",
            "           1       0.91      0.95      0.93      1135\n",
            "           2       0.78      0.79      0.78      1032\n",
            "           3       0.75      0.79      0.77      1010\n",
            "           4       0.80      0.77      0.78       982\n",
            "           5       0.78      0.75      0.76       892\n",
            "           6       0.84      0.82      0.83       958\n",
            "           7       0.89      0.86      0.88      1028\n",
            "           8       0.79      0.76      0.77       974\n",
            "           9       0.78      0.79      0.78      1009\n",
            "\n",
            "    accuracy                           0.82     10000\n",
            "   macro avg       0.82      0.82      0.82     10000\n",
            "weighted avg       0.82      0.82      0.82     10000\n",
            "\n",
            "accuracy:  0.8226\n",
            "F1:  0.8202128687259215\n"
          ]
        },
        {
          "data": {
            "image/png": "[encoded data removed]",
            "text/plain": [
              "<Figure size 432x288 with 2 Axes>"
            ]
          },
          "metadata": {
            "needs_background": "light"
          },
          "output_type": "display_data"
        }
      ],
      "source": [
        "dt_best = grid_search.best_estimator_\n",
        "\n",
        "dt_best.fit(x_train,y_train)\n",
        "\n",
        "from sklearn.metrics import confusion_matrix\n",
        "\n",
        "from sklearn.metrics import classification_report\n",
        "\n",
        "print(classification_report(y_test, dt_best.predict(x_test)))\n",
        "\n",
        "confusion_matrix = confusion_matrix(y_test, dt_best.predict(x_test))\n",
        "disp = ConfusionMatrixDisplay(confusion_matrix=confusion_matrix)\n",
        "disp.plot(cmap=plt.cm.Blues, xticks_rotation=45)\n",
        "\n",
        "\n",
        "from sklearn.metrics import f1_score, accuracy_score\n",
        "print('accuracy: ', accuracy_score(y_test, dt_best.predict(x_test)))\n",
        "print('F1: ', f1_score(y_test, dt_best.predict(x_test), average = 'macro'))"
      ]
    },
    {
      "cell_type": "code",
      "execution_count": 16,
      "metadata": {
        "id": "Z0KxYhR0YoVj",
        "outputId": "9734285d-7e59-4575-d23c-94bccde999a0"
      },
      "outputs": [
        {
          "data": {
            "text/plain": [
              "<matplotlib.image.AxesImage at 0x18061545248>"
            ]
          },
          "execution_count": 16,
          "metadata": {},
          "output_type": "execute_result"
        },
        {
          "data": {
            "image/png": "[encoded data removed]",
            "text/plain": [
              "<Figure size 432x288 with 1 Axes>"
            ]
          },
          "metadata": {
            "needs_background": "light"
          },
          "output_type": "display_data"
        }
      ],
      "source": [
        "plt.imshow(dt_best.feature_importances_.reshape(28,28), cmap= 'inferno')\n"
      ]
    },
    {
      "cell_type": "markdown",
      "metadata": {
        "id": "RFzhV-H3YoVj"
      },
      "source": [
        "### MNIST-- Random Forest"
      ]
    },
    {
      "cell_type": "code",
      "execution_count": 17,
      "metadata": {
        "id": "Refd5tEPYoVj",
        "outputId": "407c1c94-0aa5-425f-ff74-4da066d32306"
      },
      "outputs": [
        {
          "name": "stdout",
          "output_type": "stream",
          "text": [
            "Fitting 4 folds for each of 32 candidates, totalling 128 fits\n"
          ]
        },
        {
          "data": {
            "text/plain": [
              "GridSearchCV(cv=4, estimator=RandomForestClassifier(), n_jobs=-1,\n",
              "             param_grid={'criterion': ['gini', 'entropy'],\n",
              "                         'max_depth': [2, 5, 10, 100],\n",
              "                         'min_samples_leaf': [5, 10, 20, 100]},\n",
              "             scoring='accuracy', verbose=1)"
            ]
          },
          "execution_count": 17,
          "metadata": {},
          "output_type": "execute_result"
        }
      ],
      "source": [
        "from sklearn.ensemble import RandomForestClassifier\n",
        "\n",
        "\n",
        "dtt = RandomForestClassifier()\n",
        "# Create the parameter grid based on the results of random search \n",
        "params = {\n",
        "    'max_depth': [2, 5, 10, 100],\n",
        "    'min_samples_leaf': [5, 10, 20, 100],\n",
        "    'criterion': [\"gini\", \"entropy\"]\n",
        "}\n",
        "\n",
        "grid_search = GridSearchCV(estimator=dtt, \n",
        "                           param_grid=params, \n",
        "                           cv=4, n_jobs=-1, verbose=1, scoring = \"accuracy\")\n",
        "grid_search.fit(x_train, y_train)"
      ]
    },
    {
      "cell_type": "code",
      "execution_count": 18,
      "metadata": {
        "id": "zGs7izsSYoVk",
        "outputId": "79959496-b8d8-4eac-833d-9e254aa75596"
      },
      "outputs": [
        {
          "data": {
            "text/plain": [
              "RandomForestClassifier(criterion='entropy', max_depth=100, min_samples_leaf=5)"
            ]
          },
          "execution_count": 18,
          "metadata": {},
          "output_type": "execute_result"
        }
      ],
      "source": [
        "grid_search.best_estimator_"
      ]
    },
    {
      "cell_type": "code",
      "execution_count": 19,
      "metadata": {
        "id": "eEOLucsGYoVk",
        "outputId": "5e870b7e-bc37-4604-982c-b1cedb5a5f59"
      },
      "outputs": [
        {
          "name": "stdout",
          "output_type": "stream",
          "text": [
            "              precision    recall  f1-score   support\n",
            "\n",
            "           0       0.95      0.98      0.97       980\n",
            "           1       0.98      0.98      0.98      1135\n",
            "           2       0.92      0.93      0.92      1032\n",
            "           3       0.93      0.93      0.93      1010\n",
            "           4       0.93      0.93      0.93       982\n",
            "           5       0.96      0.91      0.94       892\n",
            "           6       0.94      0.96      0.95       958\n",
            "           7       0.95      0.93      0.94      1028\n",
            "           8       0.93      0.92      0.92       974\n",
            "           9       0.91      0.92      0.92      1009\n",
            "\n",
            "    accuracy                           0.94     10000\n",
            "   macro avg       0.94      0.94      0.94     10000\n",
            "weighted avg       0.94      0.94      0.94     10000\n",
            "\n",
            "accuracy:  0.9404\n",
            "F1:  0.9398166591160223\n"
          ]
        },
        {
          "data": {
            "image/png": "[encoded data removed]",
            "text/plain": [
              "<Figure size 432x288 with 2 Axes>"
            ]
          },
          "metadata": {
            "needs_background": "light"
          },
          "output_type": "display_data"
        }
      ],
      "source": [
        "from sklearn.metrics import confusion_matrix\n",
        "from sklearn.metrics import classification_report\n",
        "\n",
        "grid_search.best_estimator_\n",
        "dtt_best = grid_search.best_estimator_\n",
        "\n",
        "dtt_best.fit(x_train,y_train)\n",
        "\n",
        "print(classification_report(y_test, dtt_best.predict(x_test)))\n",
        "\n",
        "confusion_matrix = confusion_matrix(y_test, dtt_best.predict(x_test))\n",
        "disp = ConfusionMatrixDisplay(confusion_matrix=confusion_matrix)\n",
        "disp.plot(cmap=plt.cm.Blues, xticks_rotation=45)\n",
        "\n",
        "from sklearn.metrics import f1_score, accuracy_score\n",
        "print('accuracy: ', accuracy_score(y_test, dtt_best.predict(x_test)))\n",
        "print('F1: ', f1_score(y_test, dtt_best.predict(x_test), average = 'macro'))\n"
      ]
    },
    {
      "cell_type": "code",
      "execution_count": 20,
      "metadata": {
        "id": "24Nh0US0YoVk",
        "outputId": "80a6edb0-1493-44e5-f0ec-935ebcd3e735"
      },
      "outputs": [
        {
          "data": {
            "text/plain": [
              "<matplotlib.image.AxesImage at 0x18061d24808>"
            ]
          },
          "execution_count": 20,
          "metadata": {},
          "output_type": "execute_result"
        },
        {
          "data": {
            "image/png": "[encoded data removed]",
            "text/plain": [
              "<Figure size 432x288 with 1 Axes>"
            ]
          },
          "metadata": {
            "needs_background": "light"
          },
          "output_type": "display_data"
        }
      ],
      "source": [
        "plt.imshow(dtt_best.feature_importances_.reshape(28,28), cmap= 'inferno')\n"
      ]
    },
    {
      "cell_type": "markdown",
      "metadata": {
        "id": "7ge0PDvxYoVl"
      },
      "source": [
        "We can see the RandomForest provides much better results. \n",
        "\n",
        "Random forests consist of multiple single trees each based on a random sample of the training data. They are typically more accurate than single decision trees.\n",
        "\n",
        "Trees are unpruned. While a single decision tree  is often pruned, a random forest tree is fully grown and unpruned, and so, naturally, the feature space is split into more and smaller regions (more pixels).\n",
        "Trees are diverse. Each random forest tree is learned on a random sample, and at each node, a random set of features are considered for splitting. Both mechanisms create diversity among the trees.\n",
        "\n",
        "A single decision tree needs pruning to avoid overfitting.\n",
        "\n",
        "The randomness and voting mechanisms in random forests elegantly solve the overfitting problem."
      ]
    }
  ],
  "metadata": {
    "colab": {
      "collapsed_sections": [],
      "name": "New.ipynb",
      "provenance": []
    },
    "kernelspec": {
      "display_name": "Python 3",
      "language": "python",
      "name": "python3"
    },
    "language_info": {
      "codemirror_mode": {
        "name": "ipython",
        "version": 3
      },
      "file_extension": ".py",
      "mimetype": "text/x-python",
      "name": "python",
      "nbconvert_exporter": "python",
      "pygments_lexer": "ipython3",
      "version": "3.7.11"
    }
  },
  "nbformat": 4,
  "nbformat_minor": 0
}
