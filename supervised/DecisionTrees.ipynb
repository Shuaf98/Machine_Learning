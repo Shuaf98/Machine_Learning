{
  "cells": [
    {
      "cell_type": "markdown",
      "metadata": {
        "id": "Cg047ujRBmtU"
      },
      "source": [
        "# Decision Trees Exercise\n",
        "In this exercise you will show that ID3 is sub-optimal. Implement a simple version of Decision Tree, and will then apply a Decision Tree classsifier on the MNIST hand written digits dataset that we already saw.\n"
      ]
    },
    {
      "cell_type": "markdown",
      "metadata": {
        "id": "osXAmT5y4iM8"
      },
      "source": [
        "## Suboptimality of ID3\n",
        "Consider the following training set, where $\\mathcal{X} = \\{0, 1\\}^3$ and $\\mathcal{Y} =\\{0, 1\\}$:\n",
        "\n",
        "$$\n",
        "\\begin{aligned}\n",
        "((1, 1, 1), 1)\\\\\n",
        "((1, 0, 0), 1)\\\\\n",
        "((1, 1, 0), 0)\\\\\n",
        "((0, 0, 1), 0)\n",
        "\\end{aligned}\n",
        "$$\n",
        "\n",
        "Suppose we wish to use this training set in order to build a decision tree of depth 2 (i.e. for each\n",
        "input we are allowed to ask two questions of the form \"$x_i = 0$?\" before deciding on the label).\n",
        "\n",
        "1. Suppose we run the ID3 algorithm up to depth 2 (namely, we pick the root node and its\n",
        "children according to the algorithm, but instead of keeping on with the recursion, we stop\n",
        "and pick leaves according to the majority label in each subtree, once we reach depth 2). \n",
        "Assume that the subroutine used to measure the quality of each feature is based on the information gain, and that if two features get the same score, one of them is picked arbitrarily. \n",
        "Show that the training error of the resulting decision tree is at least 1/4.\n",
        "2. Find a decision tree of depth 2, which attains zero training error.\n"
      ]
    },
    {
      "cell_type": "markdown",
      "metadata": {
        "id": "xC7Anlwu50XD"
      },
      "source": [
        "#### Answer\n",
        "The answer is attached on a different PDF file (uploaded as well)"
      ]
    },
    {
      "cell_type": "markdown",
      "metadata": {
        "id": "tLXpoHg64HlD"
      },
      "source": [
        "## Implementing Decision Tree From Scratch\n",
        "In this exercise you will need to implement a simple version of Decision Tree from scratch. Your decision tree will handle **continuous input and output** (this should actually work also for binary input attributes).\n",
        "\n",
        "* Compelete the skeleton class below\n",
        "  - `X` is a matrix of data values (rows are samples, columns are attributes)\n",
        "  - `y` is a vector of corresponding target values\n",
        "  - `min_leaf` is the minimal number of samples in each leaf node\n",
        "  \n",
        "* For splitting criterion, use either **\"Train Squared Error Minimization (Reduction in Variance)\"** or **\"Train Absolute Error Minimization\"** (choose one). Whatever you choose, make sure you implement the splitting point decision efficiently (in $O(nlgn)$ time).\n",
        "\n",
        "* The `predict` function will use mean of the target values in the leaf node matching each row of the given `X`. The result is a vector of predictions matching the number of rows in `X`.\n",
        "\n",
        "* To check your decision tree implementation, use the boston dataset (`from sklearn.datasets import load_boston`) split the data set into train and test using (`from sklearn.model_selection import train_test_split`)\n",
        "\n",
        "  - Use the following to estimate what are the best hyper parameters to use for your model\n",
        "```\n",
        "    for min_leaf in [1,5,10,100]:\n",
        "      dt = DecisionTree(X, y, n, sz, min_leaf)\n",
        "      mse = # mean square error over test set\n",
        "      print(\"min_leaf:{0} --- oob mse: {1}\".format(min_leaf, mse))\n",
        "```\n",
        "  \n",
        "  - Using your chosen hyperparameters as a final model, plot the predictions vs. true values of all the samples in the training set . Use something like:\n",
        "  ```\n",
        "  y_hat = dt.predict(X_train)  # forest is the chosen model\n",
        "  plt.scatter(y_hat, y_test)\n",
        "  ```"
      ]
    },
    {
      "cell_type": "code",
      "execution_count": null,
      "metadata": {
        "id": "UHd7l9rIYoVX"
      },
      "outputs": [],
      "source": [
        "import numpy as np\n",
        "from scipy.spatial.distance import squareform\n",
        "from scipy.cluster import hierarchy\n",
        "import pandas as pd\n",
        "import matplotlib.pyplot as plt\n",
        "%matplotlib inline"
      ]
    },
    {
      "cell_type": "code",
      "execution_count": null,
      "metadata": {
        "id": "3O5bJ0T7YoVY"
      },
      "outputs": [],
      "source": [
        "from sklearn.datasets import load_boston\n"
      ]
    },
    {
      "cell_type": "code",
      "execution_count": null,
      "metadata": {
        "id": "19tGJc8VYoVZ",
        "outputId": "3adb9db4-7d17-443d-8635-e21b3192db9f"
      },
      "outputs": [
        {
          "data": {
            "text/html": [
              "<div>\n",
              "<style>\n",
              "    .dataframe thead tr:only-child th {\n",
              "        text-align: right;\n",
              "    }\n",
              "\n",
              "    .dataframe thead th {\n",
              "        text-align: left;\n",
              "    }\n",
              "\n",
              "    .dataframe tbody tr th {\n",
              "        vertical-align: top;\n",
              "    }\n",
              "</style>\n",
              "<table border=\"1\" class=\"dataframe\">\n",
              "  <thead>\n",
              "    <tr style=\"text-align: right;\">\n",
              "      <th></th>\n",
              "      <th>CRIM</th>\n",
              "      <th>ZN</th>\n",
              "      <th>INDUS</th>\n",
              "      <th>CHAS</th>\n",
              "      <th>NOX</th>\n",
              "      <th>RM</th>\n",
              "      <th>AGE</th>\n",
              "      <th>DIS</th>\n",
              "      <th>RAD</th>\n",
              "      <th>TAX</th>\n",
              "      <th>PTRATIO</th>\n",
              "      <th>B</th>\n",
              "      <th>LSTAT</th>\n",
              "    </tr>\n",
              "  </thead>\n",
              "  <tbody>\n",
              "    <tr>\n",
              "      <th>0</th>\n",
              "      <td>0.00632</td>\n",
              "      <td>18.0</td>\n",
              "      <td>2.31</td>\n",
              "      <td>0.0</td>\n",
              "      <td>0.538</td>\n",
              "      <td>6.575</td>\n",
              "      <td>65.2</td>\n",
              "      <td>4.0900</td>\n",
              "      <td>1.0</td>\n",
              "      <td>296.0</td>\n",
              "      <td>15.3</td>\n",
              "      <td>396.90</td>\n",
              "      <td>4.98</td>\n",
              "    </tr>\n",
              "    <tr>\n",
              "      <th>1</th>\n",
              "      <td>0.02731</td>\n",
              "      <td>0.0</td>\n",
              "      <td>7.07</td>\n",
              "      <td>0.0</td>\n",
              "      <td>0.469</td>\n",
              "      <td>6.421</td>\n",
              "      <td>78.9</td>\n",
              "      <td>4.9671</td>\n",
              "      <td>2.0</td>\n",
              "      <td>242.0</td>\n",
              "      <td>17.8</td>\n",
              "      <td>396.90</td>\n",
              "      <td>9.14</td>\n",
              "    </tr>\n",
              "    <tr>\n",
              "      <th>2</th>\n",
              "      <td>0.02729</td>\n",
              "      <td>0.0</td>\n",
              "      <td>7.07</td>\n",
              "      <td>0.0</td>\n",
              "      <td>0.469</td>\n",
              "      <td>7.185</td>\n",
              "      <td>61.1</td>\n",
              "      <td>4.9671</td>\n",
              "      <td>2.0</td>\n",
              "      <td>242.0</td>\n",
              "      <td>17.8</td>\n",
              "      <td>392.83</td>\n",
              "      <td>4.03</td>\n",
              "    </tr>\n",
              "    <tr>\n",
              "      <th>3</th>\n",
              "      <td>0.03237</td>\n",
              "      <td>0.0</td>\n",
              "      <td>2.18</td>\n",
              "      <td>0.0</td>\n",
              "      <td>0.458</td>\n",
              "      <td>6.998</td>\n",
              "      <td>45.8</td>\n",
              "      <td>6.0622</td>\n",
              "      <td>3.0</td>\n",
              "      <td>222.0</td>\n",
              "      <td>18.7</td>\n",
              "      <td>394.63</td>\n",
              "      <td>2.94</td>\n",
              "    </tr>\n",
              "    <tr>\n",
              "      <th>4</th>\n",
              "      <td>0.06905</td>\n",
              "      <td>0.0</td>\n",
              "      <td>2.18</td>\n",
              "      <td>0.0</td>\n",
              "      <td>0.458</td>\n",
              "      <td>7.147</td>\n",
              "      <td>54.2</td>\n",
              "      <td>6.0622</td>\n",
              "      <td>3.0</td>\n",
              "      <td>222.0</td>\n",
              "      <td>18.7</td>\n",
              "      <td>396.90</td>\n",
              "      <td>5.33</td>\n",
              "    </tr>\n",
              "  </tbody>\n",
              "</table>\n",
              "</div>"
            ],
            "text/plain": [
              "      CRIM    ZN  INDUS  CHAS    NOX     RM   AGE     DIS  RAD    TAX  \\\n",
              "0  0.00632  18.0   2.31   0.0  0.538  6.575  65.2  4.0900  1.0  296.0   \n",
              "1  0.02731   0.0   7.07   0.0  0.469  6.421  78.9  4.9671  2.0  242.0   \n",
              "2  0.02729   0.0   7.07   0.0  0.469  7.185  61.1  4.9671  2.0  242.0   \n",
              "3  0.03237   0.0   2.18   0.0  0.458  6.998  45.8  6.0622  3.0  222.0   \n",
              "4  0.06905   0.0   2.18   0.0  0.458  7.147  54.2  6.0622  3.0  222.0   \n",
              "\n",
              "   PTRATIO       B  LSTAT  \n",
              "0     15.3  396.90   4.98  \n",
              "1     17.8  396.90   9.14  \n",
              "2     17.8  392.83   4.03  \n",
              "3     18.7  394.63   2.94  \n",
              "4     18.7  396.90   5.33  "
            ]
          },
          "execution_count": 3,
          "metadata": {},
          "output_type": "execute_result"
        }
      ],
      "source": [
        "X, y = load_boston(return_X_y = True);\n",
        "data = load_boston();\n",
        "df = pd.DataFrame(data.data, columns = data.feature_names);\n",
        "df.head()"
      ]
    },
    {
      "cell_type": "code",
      "execution_count": null,
      "metadata": {
        "id": "oy-lex9LYoVa"
      },
      "outputs": [],
      "source": [
        "class Make_Node():\n",
        "    def __init__(self, feature_idx = None, threshold = None, left = None, right = None, variance = None, value = None):\n",
        "        self.feature_idx = feature_idx\n",
        "        self.threshold = threshold\n",
        "        self.left = left\n",
        "        self.right = right\n",
        "        self.variance = variance\n",
        "        self.value = value #For leaf node\n",
        "\n",
        "class RegressionTree():\n",
        "    def __init__(self, max_depth, min_split):\n",
        "        self.root = None\n",
        "        self.min_split = min_split\n",
        "        self.max_depth = max_depth\n",
        "\n",
        "\n",
        "    def split(self, df, feature_idx, threshold):\n",
        "        left_child = np.array([sample for sample in df if sample[feature_idx] <= threshold])\n",
        "        right_child = np.array([sample for sample in df if sample[feature_idx] > threshold])\n",
        "        return left_child, right_child\n",
        "\n",
        "    def train_squared_error(self, y, y_left, y_right):\n",
        "\n",
        "        weight_left = len(y_left) / len(y)\n",
        "        weight_right = len(y_right)/ len(y)\n",
        "        variance = weight_left * np.var(y_left) + weight_right * np.var(y_right)\n",
        "\n",
        "        #code says to subtract the parents error by the error fo the children. Not sure why we aren't just returning the variance of the children.\n",
        "        return variance \n",
        "\n",
        "\n",
        "\n",
        "    def get_leaf(self, y):\n",
        "        return np.mean(y)\n",
        "\n",
        "    def best_feature(self, df, n_samples, n_features):\n",
        "        best_split_dict = {}\n",
        "        max_reduction = np.inf #Change variable to max_trained_squared_error?\n",
        "\n",
        "        for feat_idx in range(n_features):\n",
        "            feat_vals = df[:, feat_idx]\n",
        "            threshold_options = np.unique(feat_vals)\n",
        "\n",
        "            for threshold in threshold_options:\n",
        "                left_child, right_child = self.split(df, feat_idx, threshold)\n",
        "            \n",
        "                if len(left_child) > 0 and len(right_child) > 0:\n",
        "                    y, left_y, right_y = df[:, -1], left_child[:, -1], right_child[:, -1]\n",
        "\n",
        "                    trained_squared_error = self.train_squared_error(y, left_y, right_y)\n",
        "\n",
        "                    if trained_squared_error < max_reduction: #We want minimum variance. (If the trained_error function were to subtract frm the variance of the parent, flip to greater than).\n",
        "                            best_split_dict[\"feature_idx\"] = feat_idx\n",
        "                            best_split_dict[\"threshold\"] = threshold\n",
        "                            best_split_dict[\"left_child\"] = left_child\n",
        "                            best_split_dict[\"right_child\"] = right_child\n",
        "                            best_split_dict[\"variance\"] = trained_squared_error\n",
        "                            max_reduction = trained_squared_error\n",
        "        \n",
        "        return best_split_dict\n",
        "\n",
        "\n",
        "    def fit(self, X, y):\n",
        "        df = np.concatenate((X, y), axis =1)\n",
        "        self.root = self.build_tree(df)\n",
        "\n",
        "\n",
        "\n",
        "    def build_tree(self, df, level = 0):\n",
        "        X, y = df[:, :-1], df[:,-1]\n",
        "        n_samples, n_features = np.shape(X)\n",
        "        best_split = {} #hold all features of the split in  dict.\n",
        "        if n_samples>= self.min_split and level <=self.max_depth:    #a1) Find the best feature for our tree to split on, if we haven't reached past our required tree size.\n",
        "\n",
        "            best_split = self.best_feature(df, n_samples, n_features)\n",
        "\n",
        "            if best_split['variance'] > 0:                          #a2) Split the tree based off this best feature into left and right subtrees\n",
        "                left_tree = self.build_tree(best_split['left_child'], level +1)\n",
        "                right_tree = self.build_tree(best_split['right_child'], level+1)\n",
        "\n",
        "                return Make_Node(best_split['feature_idx'], best_split['threshold'], left_tree, right_tree, best_split['variance']) #a3) Make current split into Parent Node\n",
        "        \n",
        "        leaf = self.get_leaf(y)                                      #b1) if tree size has already been reached, (or reduction = 0), then create and return a Leaf Node.\n",
        "\n",
        "        return Make_Node(value = leaf)\n",
        "\n",
        "\n",
        "  \n",
        "\n",
        "    def print_tree(self, tree=None, indent=\" \", columns = None, level = 0, child = 'root' ):\n",
        "            ''' function to print the tree '''\n",
        "            self.columns = columns\n",
        "            level+= 1\n",
        "\n",
        "            if not tree:\n",
        "                tree = self.root\n",
        "\n",
        "            if tree.value is not None: #If there is value, this means it is a leaf node: return the regression value in this leaf node.\n",
        "                print(' '*level*3, child, ': ',np.round(tree.value, 4))\n",
        "\n",
        "            else: #Perform Pre-order traversal-- Root, Left, Right, (leaf).\n",
        "                if self.columns is None: #If no column names were given, just print by column idx\n",
        "                    print(f'{child}: X_{str(tree.feature_idx)}, \"<=\", {tree.threshold}, \"?\", {tree.variance}')\n",
        "                    \n",
        "                else:\n",
        "                    print(' '*level*3, f'{child}: X_{self.columns[tree.feature_idx]}, \"<=\", {tree.threshold}, \"?\", {np.round(tree.variance, 4)}')\n",
        "\n",
        "                    # print(indent, \" |%sleft: \" % (indent))\n",
        "                    self.print_tree(tree.left, indent + indent, self.columns, level, child = 'left')\n",
        "                    # print(indent, \" |%sright :\" % (indent), end)\n",
        "                    self.print_tree(tree.right, indent + indent, self.columns, level, child = 'right')\n",
        "\n",
        "\n",
        "    def make_prediction(self, x, root):\n",
        "\n",
        "        if root.value:\n",
        "            return root.value\n",
        "        \n",
        "        if x[root.feature_idx] < root.threshold:\n",
        "            return self.make_prediction(x, root.left)\n",
        "\n",
        "        else:\n",
        "            return self.make_prediction(x, root.right)\n",
        "\n",
        "\n",
        "\n",
        "    def predict(self, X):\n",
        "        ''' function to predict a single data point '''\n",
        "        \n",
        "        predictions = [self.make_prediction(x, self.root) for x in X]\n",
        "        return predictions\n"
      ]
    },
    {
      "cell_type": "code",
      "execution_count": null,
      "metadata": {
        "id": "IlKcsnJaYoVc"
      },
      "outputs": [],
      "source": [
        "X = df.iloc[:, :-1].values\n",
        "Y = df.iloc[:, -1].values.reshape(-1,1)\n",
        "from sklearn.model_selection import train_test_split\n",
        "X_train, X_test, Y_train, Y_test = train_test_split(X, Y, test_size=.2, random_state=41)"
      ]
    },
    {
      "cell_type": "code",
      "execution_count": null,
      "metadata": {
        "id": "5CeR79NpYoVd",
        "outputId": "649d503b-fb16-4127-871f-09b7c946aeb1"
      },
      "outputs": [
        {
          "name": "stdout",
          "output_type": "stream",
          "text": [
            "    root: X_INDUS, \"<=\", 7.38, \"?\", 32.2873\n",
            "       left: X_RM, \"<=\", 6.23, \"?\", 8.5301\n",
            "          left: X_AGE, \"<=\", 89.8, \"?\", 7.7302\n",
            "             left: X_AGE, \"<=\", 69.6, \"?\", 5.0009\n",
            "                left: X_AGE, \"<=\", 29.2, \"?\", 3.4346\n",
            "                   left: X_CRIM, \"<=\", 0.05789, \"?\", 0.3838\n",
            "                      left: X_NOX, \"<=\", 0.392, \"?\", 0.0369\n",
            "                         left :  9.25\n",
            "                         right: X_NOX, \"<=\", 0.4379, \"?\", 0.0103\n",
            "                            left: X_CRIM, \"<=\", 0.03466, \"?\", 0.0004\n",
            "                               left :  7.83\n",
            "                               right :  8.075\n",
            "                            right :  8.43\n",
            "                      right: X_CRIM, \"<=\", 0.10659, \"?\", 0.0561\n",
            "                         left :  5.57\n",
            "                         right :  7.15\n",
            "                   right: X_CRIM, \"<=\", 0.08447, \"?\", 3.1561\n",
            "                      left: X_B, \"<=\", 364.61, \"?\", 1.8736\n",
            "                         left :  12.8\n",
            "                         right: X_RM, \"<=\", 6.02, \"?\", 1.0295\n",
            "                            left: X_RAD, \"<=\", 3.0, \"?\", 0.547\n",
            "                               left :  11.695\n",
            "                               right: X_INDUS, \"<=\", 5.19, \"?\", 0.1479\n",
            "                                  left: X_DIS, \"<=\", 5.2311, \"?\", 0.0668\n",
            "                                     left: X_AGE, \"<=\", 47.2, \"?\", 0.0273\n",
            "                                        left :  9.955\n",
            "                                        right :  9.465\n",
            "                                     right :  10.4\n",
            "                                  right :  8.77\n",
            "                            right: X_ZN, \"<=\", 21.0, \"?\", 0.2282\n",
            "                               left: X_PTRATIO, \"<=\", 17.8, \"?\", 0.0381\n",
            "                                  left: X_AGE, \"<=\", 32.2, \"?\", 0.0001\n",
            "                                     left :  9.09\n",
            "                                     right :  9.44\n",
            "                                  right: X_RM, \"<=\", 6.037, \"?\", 0.0008\n",
            "                                     left :  8.01\n",
            "                                     right :  8.475\n",
            "                               right: X_CRIM, \"<=\", 0.03871, \"?\", 0.019\n",
            "                                  left: X_CRIM, \"<=\", 0.03551, \"?\", 0.0011\n",
            "                                     left :  7.47\n",
            "                                     right :  7.14\n",
            "                                  right :  6.57\n",
            "                      right: X_CRIM, \"<=\", 0.09065, \"?\", 2.6443\n",
            "                         left :  13.55\n",
            "                         right: X_RM, \"<=\", 5.856, \"?\", 2.2758\n",
            "                            left: X_AGE, \"<=\", 33.3, \"?\", 1.2443\n",
            "                               left :  14.15\n",
            "                               right: X_PTRATIO, \"<=\", 17.9, \"?\", 0.363\n",
            "                                  left :  10.33\n",
            "                                  right: X_CRIM, \"<=\", 0.09744, \"?\", 0.0013\n",
            "                                     left :  11.41\n",
            "                                     right :  13.045\n",
            "                            right: X_AGE, \"<=\", 49.9, \"?\", 1.4805\n",
            "                               left: X_RM, \"<=\", 6.069, \"?\", 1.4171\n",
            "                                  left: X_CRIM, \"<=\", 0.17505, \"?\", 0.1916\n",
            "                                     left: X_ZN, \"<=\", 0.0, \"?\", 0.0652\n",
            "                                        left :  9.84\n",
            "                                        right :  9.005\n",
            "                                     right :  7.7\n",
            "                                  right :  10.975\n",
            "                               right: X_CRIM, \"<=\", 0.10612, \"?\", 0.075\n",
            "                                  left :  12.4\n",
            "                                  right: X_NOX, \"<=\", 0.504, \"?\", 0.016\n",
            "                                     left :  11.495\n",
            "                                     right :  10.88\n",
            "                right: X_B, \"<=\", 376.14, \"?\", 5.6445\n",
            "                   left :  11.325\n",
            "                   right: X_NOX, \"<=\", 0.448, \"?\", 0.9598\n",
            "                      left :  18.63\n",
            "                      right: X_CRIM, \"<=\", 0.13914, \"?\", 0.084\n",
            "                         left :  14.335\n",
            "                         right :  11.74\n",
            "             right :  26.135\n",
            "          right: X_CRIM, \"<=\", 0.61154, \"?\", 3.7945\n",
            "             left: X_RM, \"<=\", 6.726, \"?\", 3.0943\n",
            "                left: X_AGE, \"<=\", 40.1, \"?\", 1.8813\n",
            "                   left: X_ZN, \"<=\", 55.0, \"?\", 1.5195\n",
            "                      left: X_CRIM, \"<=\", 0.09266, \"?\", 1.1526\n",
            "                         left: X_PTRATIO, \"<=\", 16.6, \"?\", 0.4381\n",
            "                            left: X_RM, \"<=\", 6.495, \"?\", 0.0323\n",
            "                               left :  8.45\n",
            "                               right :  9.51\n",
            "                            right: X_RM, \"<=\", 6.482, \"?\", 0.0585\n",
            "                               left: X_CRIM, \"<=\", 0.03738, \"?\", 0.0029\n",
            "                                  left :  6.735\n",
            "                                  right :  7.265\n",
            "                               right :  5.28\n",
            "                         right: X_B, \"<=\", 393.68, \"?\", 0.1819\n",
            "                            left: X_CRIM, \"<=\", 0.19186, \"?\", 0.0566\n",
            "                               left: X_CRIM, \"<=\", 0.12579, \"?\", 0.002\n",
            "                                  left :  4.56\n",
            "                                  right :  5.135\n",
            "                               right :  3.76\n",
            "                            right: X_CRIM, \"<=\", 0.1403, \"?\", 0.0389\n",
            "                               left :  5.9\n",
            "                               right: X_CRIM, \"<=\", 0.19073, \"?\", 0.0002\n",
            "                                  left :  6.575\n",
            "                                  right :  6.135\n",
            "                      right: X_INDUS, \"<=\", 2.01, \"?\", 0.0505\n",
            "                         left: X_CRIM, \"<=\", 0.02055, \"?\", 0.0081\n",
            "                            left :  5.88\n",
            "                            right :  5.49\n",
            "                         right: X_CRIM, \"<=\", 0.02763, \"?\", 0.0113\n",
            "                            left :  4.35\n",
            "                            right: X_CRIM, \"<=\", 0.03615, \"?\", 0.0002\n",
            "                               left :  4.685\n",
            "                               right :  4.97\n",
            "                   right: X_TAX, \"<=\", 222.0, \"?\", 1.1487\n",
            "                      left :  5.445\n",
            "                      right: X_TAX, \"<=\", 300.0, \"?\", 0.8586\n",
            "                         left: X_CRIM, \"<=\", 0.05059, \"?\", 0.4243\n",
            "                            left: X_ZN, \"<=\", 0.0, \"?\", 0.1898\n",
            "                               left: X_INDUS, \"<=\", 3.41, \"?\", 0.0753\n",
            "                                  left :  8.505\n",
            "                                  right :  9.38\n",
            "                               right :  7.41\n",
            "                            right: X_AGE, \"<=\", 52.3, \"?\", 0.0342\n",
            "                               left :  7.285\n",
            "                               right: X_CRIM, \"<=\", 0.05735, \"?\", 0.0097\n",
            "                                  left :  6.41\n",
            "                                  right :  6.8\n",
            "                         right: X_RM, \"<=\", 6.631, \"?\", 0.1137\n",
            "                            left: X_CRIM, \"<=\", 0.02498, \"?\", 0.0002\n",
            "                               left :  8.65\n",
            "                               right: X_CRIM, \"<=\", 0.03537, \"?\", 0.0001\n",
            "                                  left :  9.5\n",
            "                                  right :  9.53\n",
            "                            right :  8.05\n",
            "                right: X_AGE, \"<=\", 34.2, \"?\", 2.7132\n",
            "                   left: X_CRIM, \"<=\", 0.00906, \"?\", 0.662\n",
            "                      left :  7.85\n",
            "                      right: X_RM, \"<=\", 6.982, \"?\", 0.4773\n",
            "                         left: X_PTRATIO, \"<=\", 19.0, \"?\", 0.2209\n",
            "                            left: X_CHAS, \"<=\", 0.0, \"?\", 0.074\n",
            "                               left: X_CRIM, \"<=\", 0.0315, \"?\", 0.0231\n",
            "                                  left :  4.585\n",
            "                                  right: X_CRIM, \"<=\", 0.09068, \"?\", 0.0046\n",
            "                                     left :  5.195\n",
            "                                     right :  4.85\n",
            "                               right :  3.845\n",
            "                            right :  3.43\n",
            "                         right: X_DIS, \"<=\", 6.4798, \"?\", 0.2596\n",
            "                            left: X_RM, \"<=\", 7.024, \"?\", 0.1263\n",
            "                               left :  1.98\n",
            "                               right: X_INDUS, \"<=\", 3.75, \"?\", 0.0761\n",
            "                                  left: X_AGE, \"<=\", 32.0, \"?\", 0.045\n",
            "                                     left: X_NOX, \"<=\", 0.415, \"?\", 0.0015\n",
            "                                        left :  3.135\n",
            "                                        right: X_CRIM, \"<=\", 0.01381, \"?\", 0.0\n",
            "                                           left :  2.97\n",
            "                                           right :  2.875\n",
            "                                     right :  3.46\n",
            "                                  right :  3.74\n",
            "                            right: X_CRIM, \"<=\", 0.01778, \"?\", 0.0526\n",
            "                               left :  4.63\n",
            "                               right :  3.81\n",
            "                   right: X_RM, \"<=\", 7.765, \"?\", 2.9048\n",
            "                      left: X_AGE, \"<=\", 54.2, \"?\", 2.8644\n",
            "                         left: X_TAX, \"<=\", 284.0, \"?\", 1.6386\n",
            "                            left: X_PTRATIO, \"<=\", 17.6, \"?\", 0.7195\n",
            "                               left: X_CRIM, \"<=\", 0.01709, \"?\", 0.2061\n",
            "                                  left: X_CRIM, \"<=\", 0.01301, \"?\", 0.0504\n",
            "                                     left :  5.49\n",
            "                                     right :  4.225\n",
            "                                  right: X_CRIM, \"<=\", 0.09604, \"?\", 0.0001\n",
            "                                     left :  2.995\n",
            "                                     right :  3.16\n",
            "                               right: X_ZN, \"<=\", 0.0, \"?\", 0.0204\n",
            "                                  left :  5.33\n",
            "                                  right :  6.755\n",
            "                            right: X_B, \"<=\", 354.31, \"?\", 0.1919\n",
            "                               left :  8.61\n",
            "                               right: X_CRIM, \"<=\", 0.07875, \"?\", 0.0934\n",
            "                                  left: X_DIS, \"<=\", 7.309, \"?\", 0.0045\n",
            "                                     left :  6.65\n",
            "                                     right :  5.98\n",
            "                                  right :  5.39\n",
            "                         right: X_ZN, \"<=\", 0.0, \"?\", 1.6158\n",
            "                            left: X_AGE, \"<=\", 61.1, \"?\", 0.6145\n",
            "                               left :  4.535\n",
            "                               right: X_AGE, \"<=\", 83.3, \"?\", 0.3252\n",
            "                                  left: X_DIS, \"<=\", 2.9153, \"?\", 0.0879\n",
            "                                     left :  7.24\n",
            "                                     right: X_CRIM, \"<=\", 0.05302, \"?\", 0.0048\n",
            "                                        left :  5.7\n",
            "                                        right :  6.275\n",
            "                                  right :  5.16\n",
            "                            right: X_INDUS, \"<=\", 3.97, \"?\", 0.7833\n",
            "                               left: X_CRIM, \"<=\", 0.53412, \"?\", 0.4022\n",
            "                                  left: X_CRIM, \"<=\", 0.04932, \"?\", 0.1118\n",
            "                                     left :  7.79\n",
            "                                     right :  6.865\n",
            "                                  right :  8.845\n",
            "                               right :  11.38\n",
            "                      right: X_NOX, \"<=\", 0.507, \"?\", 0.5393\n",
            "                         left: X_CRIM, \"<=\", 0.52693, \"?\", 0.1846\n",
            "                            left: X_DIS, \"<=\", 3.1992, \"?\", 0.0985\n",
            "                               left: X_CRIM, \"<=\", 0.31533, \"?\", 0.016\n",
            "                                  left :  4.295\n",
            "                                  right :  4.63\n",
            "                               right: X_CRIM, \"<=\", 0.33147, \"?\", 0.0448\n",
            "                                  left: X_CRIM, \"<=\", 0.08187, \"?\", 0.013\n",
            "                                     left :  3.665\n",
            "                                     right :  4.08\n",
            "                                  right :  3.13\n",
            "                            right :  2.47\n",
            "                         right: X_NOX, \"<=\", 0.575, \"?\", 0.104\n",
            "                            left :  7.44\n",
            "                            right :  5.515\n",
            "             right: X_B, \"<=\", 384.07, \"?\", 0.2904\n",
            "                left :  14.79\n",
            "                right :  10.59\n",
            "       right: X_RM, \"<=\", 5.631, \"?\", 34.2067\n",
            "          left: X_AGE, \"<=\", 87.9, \"?\", 44.9497\n",
            "             left: X_NOX, \"<=\", 0.584, \"?\", 4.2712\n",
            "                left: X_CRIM, \"<=\", 2.63548, \"?\", 0.1504\n",
            "                   left :  12.165\n",
            "                   right :  17.16\n",
            "                right :  7.12\n",
            "             right: X_CRIM, \"<=\", 15.0234, \"?\", 42.3454\n",
            "                left: X_DIS, \"<=\", 1.3325, \"?\", 33.1879\n",
            "                   left: X_CRIM, \"<=\", 3.32105, \"?\", 13.1128\n",
            "                      left :  26.82\n",
            "                      right :  7.695\n",
            "                   right: X_B, \"<=\", 131.42, \"?\", 11.3978\n",
            "                      left :  14.735\n",
            "                      right: X_RM, \"<=\", 5.186, \"?\", 6.189\n",
            "                         left: X_AGE, \"<=\", 98.0, \"?\", 1.8437\n",
            "                            left: X_CRIM, \"<=\", 2.77974, \"?\", 0.2243\n",
            "                               left: X_RM, \"<=\", 5.093, \"?\", 0.0194\n",
            "                                  left: X_CRIM, \"<=\", 2.36862, \"?\", 0.0037\n",
            "                                     left :  29.605\n",
            "                                     right :  29.29\n",
            "                                  right :  28.32\n",
            "                               right :  25.68\n",
            "                            right :  34.41\n",
            "                         right: X_ZN, \"<=\", 0.0, \"?\", 2.6589\n",
            "                            left: X_RAD, \"<=\", 2.0, \"?\", 1.4808\n",
            "                               left :  27.26\n",
            "                               right: X_NOX, \"<=\", 0.614, \"?\", 1.2154\n",
            "                                  left: X_CRIM, \"<=\", 0.43571, \"?\", 0.1305\n",
            "                                     left: X_CRIM, \"<=\", 0.37578, \"?\", 0.0\n",
            "                                        left :  23.975\n",
            "                                        right :  23.09\n",
            "                                     right :  24.91\n",
            "                                  right: X_AGE, \"<=\", 98.9, \"?\", 0.5272\n",
            "                                     left: X_CRIM, \"<=\", 8.15174, \"?\", 0.06\n",
            "                                        left :  21.15\n",
            "                                        right :  22.88\n",
            "                                     right :  24.08\n",
            "                            right :  29.93\n",
            "                right: X_NOX, \"<=\", 0.659, \"?\", 21.8481\n",
            "                   left :  21.71\n",
            "                   right: X_DIS, \"<=\", 1.6582, \"?\", 11.9704\n",
            "                      left: X_RM, \"<=\", 4.519, \"?\", 6.2959\n",
            "                         left: X_NOX, \"<=\", 0.693, \"?\", 0.1634\n",
            "                            left :  37.475\n",
            "                            right :  30.63\n",
            "                         right: X_NOX, \"<=\", 0.679, \"?\", 1.4451\n",
            "                            left :  26.64\n",
            "                            right: X_RM, \"<=\", 4.652, \"?\", 0.2834\n",
            "                               left :  28.28\n",
            "                               right: X_RM, \"<=\", 5.0, \"?\", 0.0081\n",
            "                                  left :  31.99\n",
            "                                  right :  30.7\n",
            "                      right :  19.77\n",
            "          right: X_NOX, \"<=\", 0.668, \"?\", 21.8383\n",
            "             left: X_RM, \"<=\", 6.495, \"?\", 16.5862\n",
            "                left: X_AGE, \"<=\", 53.6, \"?\", 13.6035\n",
            "                   left: X_NOX, \"<=\", 0.489, \"?\", 2.4391\n",
            "                      left: X_AGE, \"<=\", 7.8, \"?\", 1.4241\n",
            "                         left: X_RM, \"<=\", 6.065, \"?\", 0.0963\n",
            "                            left :  5.52\n",
            "                            right :  7.16\n",
            "                         right: X_CRIM, \"<=\", 0.04203, \"?\", 0.667\n",
            "                            left :  7.185\n",
            "                            right: X_AGE, \"<=\", 45.0, \"?\", 0.4364\n",
            "                               left: X_RM, \"<=\", 6.009, \"?\", 0.2796\n",
            "                                  left: X_TAX, \"<=\", 289.0, \"?\", 0.1037\n",
            "                                     left :  10.635\n",
            "                                     right :  9.49\n",
            "                                  right: X_CRIM, \"<=\", 0.09512, \"?\", 0.0172\n",
            "                                     left :  8.76\n",
            "                                     right :  9.425\n",
            "                               right :  10.62\n",
            "                      right: X_CRIM, \"<=\", 3.1636, \"?\", 0.6793\n",
            "                         left: X_CRIM, \"<=\", 0.09378, \"?\", 0.0815\n",
            "                            left :  15.71\n",
            "                            right: X_CRIM, \"<=\", 2.37857, \"?\", 0.0104\n",
            "                               left :  13.465\n",
            "                               right :  14.13\n",
            "                         right :  11.45\n",
            "                   right: X_RM, \"<=\", 6.004, \"?\", 13.3192\n",
            "                      left: X_AGE, \"<=\", 91.8, \"?\", 10.7433\n",
            "                         left: X_B, \"<=\", 232.6, \"?\", 9.0674\n",
            "                            left: X_CRIM, \"<=\", 1.38799, \"?\", 0.3553\n",
            "                               left :  27.71\n",
            "                               right :  16.42\n",
            "                            right: X_B, \"<=\", 390.94, \"?\", 5.1084\n",
            "                               left: X_NOX, \"<=\", 0.614, \"?\", 2.081\n",
            "                                  left: X_DIS, \"<=\", 2.4775, \"?\", 1.4037\n",
            "                                     left: X_INDUS, \"<=\", 10.01, \"?\", 0.0702\n",
            "                                        left :  15.565\n",
            "                                        right: X_AGE, \"<=\", 87.6, \"?\", 0.0048\n",
            "                                           left :  14.185\n",
            "                                           right :  14.81\n",
            "                                     right: X_PTRATIO, \"<=\", 20.2, \"?\", 0.5322\n",
            "                                        left: X_CRIM, \"<=\", 0.21719, \"?\", 0.1223\n",
            "                                           left :  16.565\n",
            "                                           right: X_INDUS, \"<=\", 9.9, \"?\", 0.0008\n",
            "                                              left :  18.33\n",
            "                                              right :  18.095\n",
            "                                        right :  14.74\n",
            "                                  right :  8.88\n",
            "                               right: X_B, \"<=\", 396.42, \"?\", 2.7226\n",
            "                                  left: X_B, \"<=\", 395.11, \"?\", 1.308\n",
            "                                     left: X_RM, \"<=\", 5.727, \"?\", 0.6167\n",
            "                                        left :  11.28\n",
            "                                        right: X_CRIM, \"<=\", 0.85204, \"?\", 0.0134\n",
            "                                           left: X_CRIM, \"<=\", 0.14476, \"?\", 0.0017\n",
            "                                              left :  13.56\n",
            "                                              right :  13.83\n",
            "                                           right :  11.64\n",
            "                                     right: X_CRIM, \"<=\", 0.25356, \"?\", 0.375\n",
            "                                        left :  11.5\n",
            "                                        right :  9.22\n",
            "                                  right: X_RM, \"<=\", 5.707, \"?\", 0.4709\n",
            "                                     left :  12.01\n",
            "                                     right: X_CRIM, \"<=\", 0.24522, \"?\", 0.0557\n",
            "                                        left :  15.89\n",
            "                                        right :  14.43\n",
            "                         right: X_CRIM, \"<=\", 4.42228, \"?\", 4.9674\n",
            "                            left: X_PTRATIO, \"<=\", 14.7, \"?\", 3.1441\n",
            "                               left :  12.03\n",
            "                               right: X_CRIM, \"<=\", 0.97617, \"?\", 1.8638\n",
            "                                  left: X_DIS, \"<=\", 1.6686, \"?\", 0.5598\n",
            "                                     left :  21.32\n",
            "                                     right: X_B, \"<=\", 394.95, \"?\", 0.3207\n",
            "                                        left: X_INDUS, \"<=\", 10.01, \"?\", 0.1191\n",
            "                                           left: X_NOX, \"<=\", 0.52, \"?\", 0.0013\n",
            "                                              left :  16.47\n",
            "                                              right :  16.255\n",
            "                                           right: X_CRIM, \"<=\", 0.10574, \"?\", 0.0188\n",
            "                                              left :  18.0\n",
            "                                              right: X_DIS, \"<=\", 1.9669, \"?\", 0.0107\n",
            "                                                 left :  17.045\n",
            "                                                 right :  17.29\n",
            "                                        right: X_CRIM, \"<=\", 0.11069, \"?\", 0.0171\n",
            "                                           left :  17.92\n",
            "                                           right :  18.5\n",
            "                                  right: X_AGE, \"<=\", 94.5, \"?\", 0.4974\n",
            "                                     left :  21.96\n",
            "                                     right :  19.115\n",
            "                            right :  10.11\n",
            "                      right: X_DIS, \"<=\", 1.7984, \"?\", 11.4621\n",
            "                         left: X_CRIM, \"<=\", 1.34284, \"?\", 0.1441\n",
            "                            left :  5.965\n",
            "                            right :  9.53\n",
            "                         right: X_AGE, \"<=\", 90.7, \"?\", 8.7141\n",
            "                            left: X_NOX, \"<=\", 0.573, \"?\", 3.3738\n",
            "                               left: X_NOX, \"<=\", 0.532, \"?\", 1.9143\n",
            "                                  left: X_RM, \"<=\", 6.232, \"?\", 0.5017\n",
            "                                     left: X_CHAS, \"<=\", 0.0, \"?\", 0.2971\n",
            "                                        left: X_DIS, \"<=\", 2.1224, \"?\", 0.1555\n",
            "                                           left :  14.09\n",
            "                                           right: X_B, \"<=\", 392.69, \"?\", 0.0869\n",
            "                                              left :  12.335\n",
            "                                              right: X_CRIM, \"<=\", 0.08829, \"?\", 0.0399\n",
            "                                                 left :  12.43\n",
            "                                                 right: X_RM, \"<=\", 6.137, \"?\", 0.0057\n",
            "                                                    left :  13.355\n",
            "                                                    right :  12.935\n",
            "                                        right :  14.66\n",
            "                                     right: X_NOX, \"<=\", 0.437, \"?\", 0.003\n",
            "                                        left :  11.97\n",
            "                                        right: X_CRIM, \"<=\", 0.22876, \"?\", 0.0003\n",
            "                                           left :  10.61\n",
            "                                           right :  10.74\n",
            "                                  right: X_CRIM, \"<=\", 0.40202, \"?\", 1.5461\n",
            "                                     left: X_AGE, \"<=\", 82.8, \"?\", 0.9661\n",
            "                                        left: X_CRIM, \"<=\", 0.26938, \"?\", 0.7969\n",
            "                                           left: X_RM, \"<=\", 6.021, \"?\", 0.2361\n",
            "                                              left :  10.3\n",
            "                                              right: X_CRIM, \"<=\", 0.04527, \"?\", 0.0001\n",
            "                                                 left :  9.08\n",
            "                                                 right :  7.89\n",
            "                                           right :  10.36\n",
            "                                        right :  11.085\n",
            "                                     right :  12.73\n",
            "                               right: X_B, \"<=\", 83.45, \"?\", 1.0371\n",
            "                                  left :  17.64\n",
            "                                  right: X_CRIM, \"<=\", 5.69175, \"?\", 0.1939\n",
            "                                     left :  14.67\n",
            "                                     right :  12.57\n",
            "                            right: X_RM, \"<=\", 6.185, \"?\", 9.5707\n",
            "                               left: X_RM, \"<=\", 6.072, \"?\", 4.3621\n",
            "                                  left :  13.04\n",
            "                                  right: X_AGE, \"<=\", 96.9, \"?\", 0.988\n",
            "                                     left: X_INDUS, \"<=\", 8.14, \"?\", 0.3701\n",
            "                                        left: X_CRIM, \"<=\", 1.23247, \"?\", 0.0308\n",
            "                                           left :  18.935\n",
            "                                           right :  20.34\n",
            "                                        right :  17.56\n",
            "                                     right :  24.1\n",
            "                               right: X_ZN, \"<=\", 0.0, \"?\", 5.9421\n",
            "                                  left: X_CRIM, \"<=\", 2.3004, \"?\", 3.8674\n",
            "                                     left: X_AGE, \"<=\", 97.9, \"?\", 2.6605\n",
            "                                        left: X_RM, \"<=\", 6.229, \"?\", 0.5687\n",
            "                                           left :  15.55\n",
            "                                           right: X_PTRATIO, \"<=\", 16.4, \"?\", 0.2807\n",
            "                                              left :  10.8\n",
            "                                              right: X_AGE, \"<=\", 97.7, \"?\", 0.0477\n",
            "                                                 left: X_INDUS, \"<=\", 8.14, \"?\", 0.0\n",
            "                                                    left :  12.8\n",
            "                                                    right :  12.265\n",
            "                                                 right :  11.12\n",
            "                                        right: X_RM, \"<=\", 6.431, \"?\", 0.4108\n",
            "                                           left :  16.175\n",
            "                                           right :  12.6\n",
            "                                     right :  18.68\n",
            "                                  right :  20.45\n",
            "                right: X_CRIM, \"<=\", 6.53876, \"?\", 8.4401\n",
            "                   left: X_AGE, \"<=\", 89.3, \"?\", 3.0416\n",
            "                      left: X_B, \"<=\", 395.69, \"?\", 2.2848\n",
            "                         left: X_RM, \"<=\", 6.727, \"?\", 1.1699\n",
            "                            left: X_CRIM, \"<=\", 0.3692, \"?\", 0.6694\n",
            "                               left: X_CRIM, \"<=\", 0.05372, \"?\", 0.0753\n",
            "                                  left :  7.39\n",
            "                                  right: X_RAD, \"<=\", 5.0, \"?\", 0.0238\n",
            "                                     left: X_CRIM, \"<=\", 0.07013, \"?\", 0.0025\n",
            "                                        left :  9.68\n",
            "                                        right :  9.35\n",
            "                                     right :  10.16\n"
          ]
        },
        {
          "name": "stdout",
          "output_type": "stream",
          "text": [
            "                               right :  11.98\n",
            "                            right: X_INDUS, \"<=\", 8.56, \"?\", 0.0468\n",
            "                               left :  7.67\n",
            "                               right :  6.745\n",
            "                         right :  5.405\n",
            "                      right: X_CRIM, \"<=\", 0.06076, \"?\", 0.5483\n",
            "                         left :  5.64\n",
            "                         right: X_CRIM, \"<=\", 1.83377, \"?\", 0.3148\n",
            "                            left: X_RM, \"<=\", 7.802, \"?\", 0.006\n",
            "                               left :  1.825\n",
            "                               right :  3.32\n",
            "                            right: X_CRIM, \"<=\", 5.66998, \"?\", 0.0001\n",
            "                               left :  3.715\n",
            "                               right :  2.96\n",
            "                   right :  19.69\n",
            "             right: X_CRIM, \"<=\", 9.51363, \"?\", 14.5268\n",
            "                left: X_DIS, \"<=\", 1.4191, \"?\", 6.4444\n",
            "                   left :  27.8\n",
            "                   right: X_CRIM, \"<=\", 4.26131, \"?\", 4.4125\n",
            "                      left: X_RM, \"<=\", 6.395, \"?\", 0.9066\n",
            "                         left: X_CRIM, \"<=\", 3.69311, \"?\", 0.2473\n",
            "                            left: X_B, \"<=\", 321.02, \"?\", 0.1004\n",
            "                               left: X_CHAS, \"<=\", 0.0, \"?\", 0.0017\n",
            "                                  left :  15.79\n",
            "                                  right :  15.07\n",
            "                               right :  14.375\n",
            "                            right :  12.97\n",
            "                         right :  7.39\n",
            "                      right: X_DIS, \"<=\", 2.7831, \"?\", 2.0406\n",
            "                         left: X_DIS, \"<=\", 2.5806, \"?\", 1.4596\n",
            "                            left: X_DIS, \"<=\", 1.6768, \"?\", 1.0877\n",
            "                               left :  19.645\n",
            "                               right: X_DIS, \"<=\", 2.0048, \"?\", 0.7039\n",
            "                                  left: X_AGE, \"<=\", 95.3, \"?\", 0.0648\n",
            "                                     left :  15.435\n",
            "                                     right: X_CRIM, \"<=\", 5.66637, \"?\", 0.0\n",
            "                                        left :  16.59\n",
            "                                        right :  17.115\n",
            "                                  right: X_RM, \"<=\", 6.051, \"?\", 0.568\n",
            "                                     left :  18.885\n",
            "                                     right: X_DIS, \"<=\", 2.2616, \"?\", 0.5401\n",
            "                                        left: X_RM, \"<=\", 6.341, \"?\", 0.036\n",
            "                                           left: X_CRIM, \"<=\", 8.98296, \"?\", 0.006\n",
            "                                              left :  17.695\n",
            "                                              right :  18.13\n",
            "                                           right :  19.31\n",
            "                                        right: X_B, \"<=\", 50.92, \"?\", 0.2986\n",
            "                                           left: X_RM, \"<=\", 6.728, \"?\", 0.0561\n",
            "                                              left :  18.42\n",
            "                                              right :  17.44\n",
            "                                           right: X_CRIM, \"<=\", 5.44114, \"?\", 0.0603\n",
            "                                              left :  17.5\n",
            "                                              right :  16.48\n",
            "                            right: X_B, \"<=\", 272.21, \"?\", 0.1044\n",
            "                               left: X_CRIM, \"<=\", 7.75223, \"?\", 0.006\n",
            "                                  left :  16.325\n",
            "                                  right :  16.94\n",
            "                               right :  14.345\n",
            "                         right :  10.29\n",
            "                right: X_RM, \"<=\", 5.987, \"?\", 16.3121\n",
            "                   left: X_AGE, \"<=\", 87.9, \"?\", 9.1278\n",
            "                      left :  31.995\n",
            "                      right: X_AGE, \"<=\", 94.7, \"?\", 5.9727\n",
            "                         left :  19.23\n",
            "                         right: X_CRIM, \"<=\", 25.0461, \"?\", 1.2421\n",
            "                            left: X_CRIM, \"<=\", 15.8603, \"?\", 0.06\n",
            "                               left :  24.09\n",
            "                               right :  26.77\n",
            "                            right :  20.62\n",
            "                   right: X_DIS, \"<=\", 1.8195, \"?\", 5.9536\n",
            "                      left: X_AGE, \"<=\", 96.2, \"?\", 0.7765\n",
            "                         left: X_CRIM, \"<=\", 10.8342, \"?\", 0.1129\n",
            "                            left :  25.79\n",
            "                            right: X_CRIM, \"<=\", 11.8123, \"?\", 0.0338\n",
            "                               left :  22.74\n",
            "                               right :  23.465\n",
            "                         right: X_NOX, \"<=\", 0.671, \"?\", 0.0538\n",
            "                            left: X_CRIM, \"<=\", 15.8744, \"?\", 0.0043\n",
            "                               left :  21.16\n",
            "                               right :  21.78\n",
            "                            right :  20.315\n",
            "                      right: X_RM, \"<=\", 6.411, \"?\", 4.2132\n",
            "                         left: X_CRIM, \"<=\", 9.72418, \"?\", 0.4005\n",
            "                            left :  19.52\n",
            "                            right: X_CRIM, \"<=\", 9.92485, \"?\", 0.0579\n",
            "                               left :  16.44\n",
            "                               right: X_CRIM, \"<=\", 13.9134, \"?\", 0.0038\n",
            "                                  left :  15.095\n",
            "                                  right :  14.52\n",
            "                         right :  21.415\n"
          ]
        }
      ],
      "source": [
        "regressor = RegressionTree(min_split=2, max_depth=20)\n",
        "regressor.fit(X_train, Y_train)\n",
        "regressor.print_tree(columns= df.columns)"
      ]
    },
    {
      "cell_type": "code",
      "execution_count": null,
      "metadata": {
        "id": "DexvS8XcYoVd",
        "outputId": "54d7dd2a-9f7e-4142-cba0-66a20bdeb70c"
      },
      "outputs": [
        {
          "name": "stdout",
          "output_type": "stream",
          "text": [
            "min_leaf:2 --- oob mse: 55.08662720588235\n",
            "min_leaf:5 --- oob mse: 48.14092386982571\n",
            "min_leaf:10 --- oob mse: 50.37255103040444\n",
            "min_leaf:100 --- oob mse: 29.07709343474029\n"
          ]
        }
      ],
      "source": [
        "import matplotlib.pyplot as plt\n",
        "from sklearn.metrics import mean_squared_error\n",
        "for min_leaf in [2,5,10,100]: #Not working for values of 1 -- Need to fix this. Also, what should max depth be?\n",
        "      regressor = RegressionTree(min_split=min_leaf, max_depth=20)\n",
        "      regressor.fit(X_train, Y_train)\n",
        "      mse = mean_squared_error(Y_test, regressor.predict(X_test)) # mean square error over test set\n",
        "      print(\"min_leaf:{0} --- oob mse: {1}\".format(min_leaf, mse))\n",
        "\n"
      ]
    },
    {
      "cell_type": "code",
      "execution_count": null,
      "metadata": {
        "id": "htqweeWxYoVe",
        "outputId": "efd952cd-eeed-448a-f504-6b9c4e6e7dd4"
      },
      "outputs": [
        {
          "data": {
            "text/plain": [
              "<matplotlib.collections.PathCollection at 0x1888a2b21d0>"
            ]
          },
          "execution_count": 8,
          "metadata": {},
          "output_type": "execute_result"
        },
        {
          "data": {
            "image/png": "[encoded data removed]",
            "text/plain": [
              "<matplotlib.figure.Figure at 0x18889cc2080>"
            ]
          },
          "metadata": {
            "needs_background": "light"
          },
          "output_type": "display_data"
        }
      ],
      "source": [
        "regressor = RegressionTree(min_split=100, max_depth=100)\n",
        "regressor.fit(X_train, Y_train)\n",
        "y_hat = regressor.predict(X_test)  # forest is the chosen model\n",
        "plt.scatter(y_hat, Y_test)"
      ]
    },
    {
      "cell_type": "code",
      "execution_count": null,
      "metadata": {
        "id": "v_F6lvJxYoVe",
        "outputId": "293030f0-5e34-46f4-e03e-526d4cb1062f"
      },
      "outputs": [
        {
          "data": {
            "text/plain": [
              "<matplotlib.collections.PathCollection at 0x1888a65bb70>"
            ]
          },
          "execution_count": 9,
          "metadata": {},
          "output_type": "execute_result"
        },
        {
          "data": {
            "image/png": "[encoded data removed]",
            "text/plain": [
              "<matplotlib.figure.Figure at 0x1888a02bd30>"
            ]
          },
          "metadata": {
            "needs_background": "light"
          },
          "output_type": "display_data"
        }
      ],
      "source": [
        "from sklearn.tree import DecisionTreeRegressor\n",
        "\n",
        "\n",
        "tree = DecisionTreeRegressor(min_samples_split=100, max_depth=100) \n",
        "tree.fit(X_train, Y_train)\n",
        "y_pred = tree.predict(X_test)   \n",
        "plt.scatter(y_pred, Y_test)"
      ]
    },
    {
      "cell_type": "markdown",
      "metadata": {
        "id": "i5aEtA5cYoVf"
      },
      "source": [
        "We can see that we got quite similar results as sklearn"
      ]
    },
    {
      "cell_type": "markdown",
      "metadata": {
        "id": "TF5TjNuvTKof"
      },
      "source": [
        "## Using Decision Treefor Digits Classification\n",
        "Remeber the MNIST dataset used - you will now test the power of decision trees on this problem.\n",
        "This time you are given a free hand in choosing the test and train set sizes, model parameters (such as gain function and constraints over the trees) and features (whether to use binary pixel values or the original continous gray value).\n",
        "- Choose which model parameters you wish to optimize, explain how would you do that, and find a model which you believe would have the minimal generalization error --- do this for both a single decision tree model, and a random forest.\n",
        "  - You can use `sklearn.tree.DecisionTreeClassifier`\n",
        "- Once you are satisfied with the model parameters, plot the importance of each of the pixels to the final decision.\n",
        "- Last, estimate the class assignment probabilities for all the correctly classified and misclassified examples in your test data.\n",
        "- Discuss your results."
      ]
    },
    {
      "cell_type": "code",
      "metadata": {
        "id": "8-k9WpIV_n7Y",
        "pycharm": {
          "name": "#%%\n"
        }
      },
      "source": [
        "We will optimize max_depth, min_samples_leaf,  and the criterion (gini or entropy)\n",
        "\n",
        "We will use GridSearchCV method"
      ],
      "execution_count": null,
      "outputs": []
    },
    {
      "cell_type": "code",
      "execution_count": null,
      "metadata": {
        "id": "zzSyPTZgYoVg",
        "outputId": "fe122a4c-b399-45b3-b3af-088f48db470e"
      },
      "outputs": [
        {
          "name": "stderr",
          "output_type": "stream",
          "text": [
            "C:\\Users\\Jonathan\\Anaconda3\\lib\\site-packages\\h5py\\__init__.py:34: FutureWarning: Conversion of the second argument of issubdtype from `float` to `np.floating` is deprecated. In future, it will be treated as `np.float64 == np.dtype(float).type`.\n",
            "  from ._conv import register_converters as _register_converters\n",
            "Using TensorFlow backend.\n"
          ]
        }
      ],
      "source": [
        "from sklearn.model_selection import GridSearchCV\n",
        "from keras.datasets import mnist\n",
        "from sklearn.tree import DecisionTreeClassifier\n",
        "from sklearn.metrics import ConfusionMatrixDisplay"
      ]
    },
    {
      "cell_type": "markdown",
      "metadata": {
        "id": "RlG-xknKYoVh"
      },
      "source": [
        "Because of lake of resources for calculations, we will take only 10,000 samples"
      ]
    },
    {
      "cell_type": "code",
      "execution_count": null,
      "metadata": {
        "id": "ot5Zw7D0YoVh"
      },
      "outputs": [],
      "source": [
        "(x_train, y_train), (x_test, y_test) = mnist.load_data()\n",
        "x_train = [x.flatten() for x in x_train]\n",
        "x_test = [x.flatten() for x in x_test]\n",
        "\n",
        "x_train=x_train[0:10000]\n",
        "x_test=x_test[0:10000]\n",
        "\n",
        "y_train=y_train[0:10000]\n",
        "y_test=y_test[0:10000]"
      ]
    },
    {
      "cell_type": "markdown",
      "metadata": {
        "id": "2FE-nQl6YoVh"
      },
      "source": [
        "The calculation takes about 5 minutes."
      ]
    },
    {
      "cell_type": "code",
      "execution_count": null,
      "metadata": {
        "id": "ZE0pkM2WYoVi",
        "outputId": "734bcd4c-4755-483e-ac31-7d020125467b"
      },
      "outputs": [
        {
          "name": "stdout",
          "output_type": "stream",
          "text": [
            "Fitting 4 folds for each of 32 candidates, totalling 128 fits\n"
          ]
        },
        {
          "name": "stderr",
          "output_type": "stream",
          "text": [
            "[Parallel(n_jobs=-1)]: Using backend LokyBackend with 4 concurrent workers.\n",
            "[Parallel(n_jobs=-1)]: Done  42 tasks      | elapsed:   36.5s\n",
            "[Parallel(n_jobs=-1)]: Done 128 out of 128 | elapsed:  2.0min finished\n"
          ]
        },
        {
          "data": {
            "text/plain": [
              "GridSearchCV(cv=4, estimator=DecisionTreeClassifier(random_state=42), n_jobs=-1,\n",
              "             param_grid={'criterion': ['gini', 'entropy'],\n",
              "                         'max_depth': [2, 5, 10, 100],\n",
              "                         'min_samples_leaf': [5, 10, 20, 100]},\n",
              "             scoring='accuracy', verbose=1)"
            ]
          },
          "execution_count": 12,
          "metadata": {},
          "output_type": "execute_result"
        }
      ],
      "source": [
        "dt = DecisionTreeClassifier(random_state=42)\n",
        "# Create the parameter grid based on the results of random search \n",
        "params = {\n",
        "    'max_depth': [2, 5, 10, 100],\n",
        "    'min_samples_leaf': [5, 10, 20, 100],\n",
        "    'criterion': [\"gini\", \"entropy\"]\n",
        "}\n",
        "\n",
        "grid_search = GridSearchCV(estimator=dt, \n",
        "                           param_grid=params, \n",
        "                           cv=4, n_jobs=-1, verbose=1, scoring = \"accuracy\")\n",
        "grid_search.fit(x_train, y_train)\n"
      ]
    },
    {
      "cell_type": "code",
      "execution_count": null,
      "metadata": {
        "id": "jIyXd-FOYoVi",
        "outputId": "e1911ff1-8c64-4ee5-c54f-40a7821ed95d"
      },
      "outputs": [
        {
          "data": {
            "text/plain": [
              "DecisionTreeClassifier(criterion='entropy', max_depth=100, min_samples_leaf=5,\n",
              "                       random_state=42)"
            ]
          },
          "execution_count": 13,
          "metadata": {},
          "output_type": "execute_result"
        }
      ],
      "source": [
        "grid_search.best_estimator_"
      ]
    },
    {
      "cell_type": "code",
      "execution_count": null,
      "metadata": {
        "id": "Wen0XxbQYoVi",
        "outputId": "c0b63808-e30e-4661-d9d7-54b45496dfb9"
      },
      "outputs": [
        {
          "name": "stdout",
          "output_type": "stream",
          "text": [
            "              precision    recall  f1-score   support\n",
            "\n",
            "           0       0.89      0.93      0.91       980\n",
            "           1       0.91      0.95      0.93      1135\n",
            "           2       0.78      0.79      0.78      1032\n",
            "           3       0.75      0.79      0.77      1010\n",
            "           4       0.80      0.77      0.78       982\n",
            "           5       0.78      0.75      0.76       892\n",
            "           6       0.84      0.82      0.83       958\n",
            "           7       0.89      0.86      0.88      1028\n",
            "           8       0.79      0.76      0.77       974\n",
            "           9       0.78      0.79      0.78      1009\n",
            "\n",
            "    accuracy                           0.82     10000\n",
            "   macro avg       0.82      0.82      0.82     10000\n",
            "weighted avg       0.82      0.82      0.82     10000\n",
            "\n",
            "accuracy:  0.8226\n",
            "F1:  0.8202128687259215\n"
          ]
        },
        {
          "data": {
            "image/png": "[encoded data removed]",
            "text/plain": [
              "<matplotlib.figure.Figure at 0x1888ef32400>"
            ]
          },
          "metadata": {
            "needs_background": "light"
          },
          "output_type": "display_data"
        }
      ],
      "source": [
        "dt_best = grid_search.best_estimator_\n",
        "\n",
        "dt_best.fit(x_train,y_train)\n",
        "\n",
        "\n",
        "\n",
        "from sklearn.metrics import confusion_matrix\n",
        "\n",
        "from sklearn.metrics import classification_report\n",
        "\n",
        "print(classification_report(y_test, dt_best.predict(x_test)))\n",
        "\n",
        "\n",
        "\n",
        "\n",
        "\n",
        "confusion_matrix = confusion_matrix(y_test, dt_best.predict(x_test))\n",
        "disp = ConfusionMatrixDisplay(confusion_matrix=confusion_matrix)\n",
        "disp.plot(cmap=plt.cm.Blues, xticks_rotation=45)\n",
        "\n",
        "\n",
        "from sklearn.metrics import f1_score, accuracy_score\n",
        "print('accuracy: ', accuracy_score(y_test, dt_best.predict(x_test)))\n",
        "print('F1: ', f1_score(y_test, dt_best.predict(x_test), average = 'macro'))"
      ]
    },
    {
      "cell_type": "code",
      "execution_count": null,
      "metadata": {
        "id": "Z0KxYhR0YoVj",
        "outputId": "9734285d-7e59-4575-d23c-94bccde999a0"
      },
      "outputs": [
        {
          "data": {
            "text/plain": [
              "<matplotlib.image.AxesImage at 0x1888eeb2b70>"
            ]
          },
          "execution_count": 15,
          "metadata": {},
          "output_type": "execute_result"
        },
        {
          "data": {
            "image/png": "[encoded data removed]",
            "text/plain": [
              "<matplotlib.figure.Figure at 0x188fc608f98>"
            ]
          },
          "metadata": {
            "needs_background": "light"
          },
          "output_type": "display_data"
        }
      ],
      "source": [
        "plt.imshow(dt_best.feature_importances_.reshape(28,28), cmap= 'inferno')\n"
      ]
    },
    {
      "cell_type": "markdown",
      "metadata": {
        "id": "RFzhV-H3YoVj"
      },
      "source": [
        "The calculation takes about 5 minutes."
      ]
    },
    {
      "cell_type": "code",
      "execution_count": null,
      "metadata": {
        "id": "Refd5tEPYoVj",
        "outputId": "407c1c94-0aa5-425f-ff74-4da066d32306"
      },
      "outputs": [
        {
          "name": "stdout",
          "output_type": "stream",
          "text": [
            "Fitting 4 folds for each of 32 candidates, totalling 128 fits\n"
          ]
        },
        {
          "name": "stderr",
          "output_type": "stream",
          "text": [
            "[Parallel(n_jobs=-1)]: Using backend LokyBackend with 4 concurrent workers.\n",
            "[Parallel(n_jobs=-1)]: Done  42 tasks      | elapsed:  1.0min\n",
            "[Parallel(n_jobs=-1)]: Done 128 out of 128 | elapsed:  4.1min finished\n"
          ]
        },
        {
          "data": {
            "text/plain": [
              "GridSearchCV(cv=4, estimator=RandomForestClassifier(), n_jobs=-1,\n",
              "             param_grid={'criterion': ['gini', 'entropy'],\n",
              "                         'max_depth': [2, 5, 10, 100],\n",
              "                         'min_samples_leaf': [5, 10, 20, 100]},\n",
              "             scoring='accuracy', verbose=1)"
            ]
          },
          "execution_count": 16,
          "metadata": {},
          "output_type": "execute_result"
        }
      ],
      "source": [
        "from sklearn.ensemble import RandomForestClassifier\n",
        "\n",
        "\n",
        "dtt = RandomForestClassifier()\n",
        "# Create the parameter grid based on the results of random search \n",
        "params = {\n",
        "    'max_depth': [2, 5, 10, 100],\n",
        "    'min_samples_leaf': [5, 10, 20, 100],\n",
        "    'criterion': [\"gini\", \"entropy\"]\n",
        "}\n",
        "\n",
        "grid_search = GridSearchCV(estimator=dtt, \n",
        "                           param_grid=params, \n",
        "                           cv=4, n_jobs=-1, verbose=1, scoring = \"accuracy\")\n",
        "grid_search.fit(x_train, y_train)"
      ]
    },
    {
      "cell_type": "code",
      "execution_count": null,
      "metadata": {
        "id": "zGs7izsSYoVk",
        "outputId": "79959496-b8d8-4eac-833d-9e254aa75596"
      },
      "outputs": [
        {
          "data": {
            "text/plain": [
              "RandomForestClassifier(max_depth=100, min_samples_leaf=5)"
            ]
          },
          "execution_count": 17,
          "metadata": {},
          "output_type": "execute_result"
        }
      ],
      "source": [
        "grid_search.best_estimator_\n"
      ]
    },
    {
      "cell_type": "code",
      "execution_count": null,
      "metadata": {
        "id": "eEOLucsGYoVk",
        "outputId": "5e870b7e-bc37-4604-982c-b1cedb5a5f59"
      },
      "outputs": [
        {
          "name": "stdout",
          "output_type": "stream",
          "text": [
            "              precision    recall  f1-score   support\n",
            "\n",
            "           0       0.96      0.99      0.97       980\n",
            "           1       0.98      0.99      0.98      1135\n",
            "           2       0.93      0.93      0.93      1032\n",
            "           3       0.93      0.93      0.93      1010\n",
            "           4       0.94      0.93      0.93       982\n",
            "           5       0.95      0.91      0.93       892\n",
            "           6       0.94      0.96      0.95       958\n",
            "           7       0.95      0.93      0.94      1028\n",
            "           8       0.92      0.90      0.91       974\n",
            "           9       0.90      0.92      0.91      1009\n",
            "\n",
            "    accuracy                           0.94     10000\n",
            "   macro avg       0.94      0.94      0.94     10000\n",
            "weighted avg       0.94      0.94      0.94     10000\n",
            "\n",
            "accuracy:  0.9401\n",
            "F1:  0.9393582164597335\n"
          ]
        },
        {
          "data": {
            "image/png": "[encoded data removed]",
            "text/plain": [
              "<matplotlib.figure.Figure at 0x1888f75e4a8>"
            ]
          },
          "metadata": {
            "needs_background": "light"
          },
          "output_type": "display_data"
        }
      ],
      "source": [
        "from sklearn.metrics import confusion_matrix\n",
        "from sklearn.metrics import classification_report\n",
        "\n",
        "grid_search.best_estimator_\n",
        "dtt_best = grid_search.best_estimator_\n",
        "\n",
        "dtt_best.fit(x_train,y_train)\n",
        "\n",
        "print(classification_report(y_test, dtt_best.predict(x_test)))\n",
        "\n",
        " \n",
        "\n",
        "\n",
        "\n",
        "\n",
        "confusion_matrix = confusion_matrix(y_test, dtt_best.predict(x_test))\n",
        "disp = ConfusionMatrixDisplay(confusion_matrix=confusion_matrix)\n",
        "disp.plot(cmap=plt.cm.Blues, xticks_rotation=45)\n",
        "\n",
        "from sklearn.metrics import f1_score, accuracy_score\n",
        "print('accuracy: ', accuracy_score(y_test, dtt_best.predict(x_test)))\n",
        "print('F1: ', f1_score(y_test, dtt_best.predict(x_test), average = 'macro'))\n"
      ]
    },
    {
      "cell_type": "code",
      "execution_count": null,
      "metadata": {
        "id": "24Nh0US0YoVk",
        "outputId": "80a6edb0-1493-44e5-f0ec-935ebcd3e735"
      },
      "outputs": [
        {
          "data": {
            "text/plain": [
              "<matplotlib.image.AxesImage at 0x1888efc3b70>"
            ]
          },
          "execution_count": 19,
          "metadata": {},
          "output_type": "execute_result"
        },
        {
          "data": {
            "image/png": "[encoded data removed]",
            "text/plain": [
              "<matplotlib.figure.Figure at 0x1888f771390>"
            ]
          },
          "metadata": {
            "needs_background": "light"
          },
          "output_type": "display_data"
        }
      ],
      "source": [
        "plt.imshow(dtt_best.feature_importances_.reshape(28,28), cmap= 'inferno')\n"
      ]
    },
    {
      "cell_type": "markdown",
      "metadata": {
        "id": "7ge0PDvxYoVl"
      },
      "source": [
        "We can see the RandomForest provides much better results. \n",
        "\n",
        "Random forests consist of multiple single trees each based on a random sample of the training data. They are typically more accurate than single decision trees.\n",
        "\n",
        "Trees are unpruned. While a single decision tree  is often pruned, a random forest tree is fully grown and unpruned, and so, naturally, the feature space is split into more and smaller regions (more pixels).\n",
        "Trees are diverse. Each random forest tree is learned on a random sample, and at each node, a random set of features are considered for splitting. Both mechanisms create diversity among the trees.\n",
        "\n",
        "A single decision tree needs pruning to avoid overfitting.\n",
        "\n",
        "The randomness and voting mechanisms in random forests elegantly solve the overfitting problem."
      ]
    }
  ],
  "metadata": {
    "colab": {
      "collapsed_sections": [],
      "name": "New.ipynb",
      "provenance": []
    },
    "kernelspec": {
      "display_name": "Python 3",
      "language": "python",
      "name": "python3"
    },
    "language_info": {
      "codemirror_mode": {
        "name": "ipython",
        "version": 3
      },
      "file_extension": ".py",
      "mimetype": "text/x-python",
      "name": "python",
      "nbconvert_exporter": "python",
      "pygments_lexer": "ipython3",
      "version": "3.6.3"
    }
  },
  "nbformat": 4,
  "nbformat_minor": 0
}