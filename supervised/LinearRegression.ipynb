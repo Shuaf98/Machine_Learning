{
 "cells": [
  {
   "cell_type": "markdown",
   "metadata": {
    "id": "chEqqJbLzFew"
   },
   "source": [
    "## Linear Regression & Regularization Exercise.\n",
    "###### (All Latex taken from the Y-Data School of Data Science exercise)\n",
    "\n",
    "\n",
    "\n",
    "## Outline\n",
    "1. Refresher on how linear regression is solved in batch and in Gradient Descent \n",
    "2. Implementation of Ridge Regression\n",
    "3. Comparing Ridge, Lasso and vanila Linear Regression on a dataset"
   ]
  },
  {
   "cell_type": "markdown",
   "metadata": {
    "id": "mR9UFmk2greT"
   },
   "source": [
    "### Ordinary Least Square (OLS) aka Linear Regeression \n",
    "\n",
    "Our objective is to optimize the loss $L$ defined as resiudal sum of squares (RSS): \n",
    "\n",
    "$L_{RSS}=\\frac{1}{N}\\left\\Vert Xw-y \\right\\Vert^2$\n",
    "\n",
    "To find the optimal $w$ one needs to derive the loss with respect to $w$.\n",
    "\n",
    "$\\frac{\\partial{L_{RSS}}}{\\partial{w}}=\\frac{2}{N}X^T(Xw-y)$ \n",
    "\n",
    "Thus, the gradient descent solution is $w'=w-\\alpha \\frac{2}{N}X^T(Xw-y)$.\n",
    "\n",
    "Solving $\\frac{\\partial{L_{RSS}}}{\\partial{w}}=0$ for $w$ one can also get analytical solution:\n",
    "\n",
    "$w_{OLS}=(X^TX)^{-1}X^Ty$\n",
    "\n",
    "See [lecture note from Stanford](https://web.stanford.edu/~mrosenfe/soc_meth_proj3/matrix_OLS_NYU_notes.pdf) for more details.\n",
    "\n"
   ]
  },
  {
   "cell_type": "markdown",
   "metadata": {
    "id": "JA3MEKz80vdy"
   },
   "source": [
    "## Exercise 1 - Ordinary Least Square\n",
    "Order of Operations:\n",
    "\n",
    "* Get the boston housing dataset by using the scikit-learn package. hint: [load_boston](http://scikit-learn.org/stable/modules/generated/sklearn.datasets.load_boston.html)\n",
    "\n",
    "* write a model `OrdinaryLinearRegression` which has a propoery $w$ and 3 methods: `fit`, `predict` and `score` (which returns the MSE on a given sample set).\n",
    "\n",
    "* Fit the model, and plot a scatter plot where on x-axis plot $Y$ and in the y-axis $\\hat{Y}_{OLS}$\n",
    "\n",
    "* Split the data to 75% train and 25% test 20 times, and find the average MSE for train and test.\n",
    "\n",
    "* Use a t-test to prove that the MSE for training is significantly smaller than for testing. What is the p-value? \n",
    "\n",
    "* Write a new class `OrdinaryLinearRegressionGradientDescent` which inherits from `OrdinaryLinearRegression` and solves the problem using gradient descent. The class should get as a parameter the learning rate and number of iteration. Plot the class convergance.\n"
   ]
  },
  {
   "cell_type": "markdown",
   "metadata": {},
   "source": [
    "a) load boston dataset"
   ]
  },
  {
   "cell_type": "code",
   "execution_count": null,
   "metadata": {},
   "outputs": [],
   "source": [
    "import pandas as pd\n",
    "import numpy as np\n",
    "from sklearn.datasets import load_boston;\n",
    "X, y = load_boston(return_X_y = True);\n",
    "data = load_boston();\n",
    "df = pd.DataFrame(data.data, columns = data.feature_names);\n",
    "df.head()"
   ]
  },
  {
   "cell_type": "markdown",
   "metadata": {},
   "source": [
    "b) Write a model for Ordinary Linear Regression"
   ]
  },
  {
   "cell_type": "code",
   "execution_count": 34,
   "metadata": {
    "id": "ZuSS8LhcfZdn"
   },
   "outputs": [],
   "source": [
    "# * write a model `Ols` which has a propoery $w$ and 3 methods: `fit`, `predict` and `score`.? hint: use [numpy.linalg.pinv](https://docs.scipy.org/doc/numpy-1.15.1/reference/generated/numpy.linalg.pinv.html) to be more efficient.\n",
    "\n",
    "class Ols(object):\n",
    "  def __init__(self):\n",
    "    self.w = None\n",
    "    \n",
    "  @staticmethod\n",
    "  def pad(X): #The model is $\\hat{y}=X\\cdot w$ where we assume for simplicity that $X$'s first columns equals to 1 (one padding), to account for the bias term.\n",
    "    padding = np.ones(( X.shape[0], 1,))\n",
    "    return np.hstack((padding, X))\n",
    "  \n",
    "  def fit(self, X, Y):\n",
    "    #remeber pad with 1 before fitting\n",
    "    self.X = self.pad(np.array(X))\n",
    "    self.Y = np.array(Y)\n",
    "    self.w = np.linalg.pinv(self.X) @ self.Y\n",
    "  \n",
    "  def _fit(self, X, Y):\n",
    "    # optional to use this\n",
    "    pass\n",
    "  \n",
    "  def predict(self, X):\n",
    "    self.X = self.pad(X) #Pads the new input, now is same dimensionality as w\n",
    "    self.labels = self.X @ self.w\n",
    "    return self.labels\n",
    "    \n",
    "  def _predict(self, X):\n",
    "    # optional to use this\n",
    "    pass\n",
    "    \n",
    "  def score(self, X, Y):\n",
    "    # w = self.fit(X,Y)\n",
    "    self.X = X\n",
    "    self.Y = Y\n",
    "    pred = self.predict(self.X) #predict does the padding for X\n",
    "    return np.square(np.subtract(self.Y ,pred)).mean()\n",
    "    # return np.sum((self.Y - pred)**2) / Y.shape[0]"
   ]
  },
  {
   "cell_type": "code",
   "execution_count": 35,
   "metadata": {},
   "outputs": [],
   "source": [
    "from sklearn.model_selection import train_test_split\n",
    "from sklearn.metrics import mean_squared_error\n",
    "from sklearn.linear_model import LinearRegression"
   ]
  },
  {
   "cell_type": "markdown",
   "metadata": {},
   "source": [
    "c) MSE on the Training Set"
   ]
  },
  {
   "cell_type": "code",
   "execution_count": 36,
   "metadata": {},
   "outputs": [
    {
     "data": {
      "text/plain": [
       "21.894831181729202"
      ]
     },
     "execution_count": 36,
     "metadata": {},
     "output_type": "execute_result"
    }
   ],
   "source": [
    "ols = Ols()\n",
    "ols.fit(X,y)\n",
    "ols.score(X,y)"
   ]
  },
  {
   "cell_type": "code",
   "execution_count": 37,
   "metadata": {},
   "outputs": [
    {
     "data": {
      "text/plain": [
       "21.894831181729206"
      ]
     },
     "execution_count": 37,
     "metadata": {},
     "output_type": "execute_result"
    }
   ],
   "source": [
    "#Checking rsults with sklean\n",
    "reg = LinearRegression()\n",
    "reg.fit(X,y)\n",
    "mean_squared_error(y, reg.predict(X))"
   ]
  },
  {
   "cell_type": "markdown",
   "metadata": {},
   "source": [
    "d) Scatter plot"
   ]
  },
  {
   "cell_type": "code",
   "execution_count": 38,
   "metadata": {},
   "outputs": [
    {
     "data": {
      "text/plain": [
       "<matplotlib.collections.PathCollection at 0x1bcfce1b448>"
      ]
     },
     "execution_count": 38,
     "metadata": {},
     "output_type": "execute_result"
    },
    {
     "data": {
      "image/png": "[encoded data removed]",
      "text/plain": [
       "<Figure size 864x432 with 2 Axes>"
      ]
     },
     "metadata": {
      "needs_background": "light"
     },
     "output_type": "display_data"
    }
   ],
   "source": [
    "import matplotlib.pyplot as plt\n",
    "\n",
    "ols_pred = ols.predict(X)\n",
    "fig = plt.figure(figsize= (12,6))\n",
    "plt.subplot(1,2,1)\n",
    "plt.scatter(y ,ols_pred)\n",
    "\n",
    "plt.subplot(1,2,2)\n",
    "reg = LinearRegression().fit(X,y)\n",
    "pred = reg.predict(X)\n",
    "plt.scatter(y, pred)"
   ]
  },
  {
   "cell_type": "markdown",
   "metadata": {},
   "source": [
    "e) Average over 20 samples"
   ]
  },
  {
   "cell_type": "code",
   "execution_count": 39,
   "metadata": {},
   "outputs": [
    {
     "data": {
      "text/plain": [
       "23.76661062843534"
      ]
     },
     "execution_count": 39,
     "metadata": {},
     "output_type": "execute_result"
    }
   ],
   "source": [
    "avg_mse_test = []\n",
    "for i in range(20):\n",
    "    X_train, X_test, Y_train, Y_test = train_test_split(X, y, test_size= .25, shuffle= True)\n",
    "    GD = Ols()\n",
    "    GD.fit(X_train, Y_train)\n",
    "    GD.predict(X_test)\n",
    "    # avg_mse.append( 1/Y_test.size * np.sum(GD.labels - Y_test)**2)\n",
    "    avg_mse_test.append(GD.score(X_test, Y_test))\n",
    "np.mean(avg_mse_test)"
   ]
  },
  {
   "cell_type": "code",
   "execution_count": 40,
   "metadata": {},
   "outputs": [
    {
     "data": {
      "text/plain": [
       "21.481290042129807"
      ]
     },
     "execution_count": 40,
     "metadata": {},
     "output_type": "execute_result"
    }
   ],
   "source": [
    "#AVerage MSE for the training set\n",
    "avg_mse_train = []\n",
    "for i in range(20):\n",
    "    X_train, X_test, Y_train, Y_test = train_test_split(X, y, test_size= .25, shuffle= True)\n",
    "    reg = LinearRegression()\n",
    "    reg.fit(X_train,Y_train)\n",
    "    avg_mse_train.append(mean_squared_error(Y_train, reg.predict(X_train)))\n",
    "\n",
    "np.mean(avg_mse_train)\n",
    "\n"
   ]
  },
  {
   "cell_type": "markdown",
   "metadata": {},
   "source": [
    "F) T-Test"
   ]
  },
  {
   "cell_type": "code",
   "execution_count": 41,
   "metadata": {},
   "outputs": [
    {
     "name": "stdout",
     "output_type": "stream",
     "text": [
      "Results: We see that the Avg MSE for the training set is less than the Avg MSE for the Test set with a extreme significance level (P value =0.03037225870657512), which lies within the 1% siginificance range\n"
     ]
    }
   ],
   "source": [
    "from scipy import stats\n",
    "stat, p_value = stats.ttest_rel(avg_mse_train, avg_mse_test, alternative= 'less')\n",
    "print(f'Results: We see that the Avg MSE for the training set is less than the Avg MSE for the Test set with a extreme significance level (P value ={p_value}), which lies within the 1% siginificance range')"
   ]
  },
  {
   "cell_type": "markdown",
   "metadata": {},
   "source": [
    "G) Create Model using Gradient Descent"
   ]
  },
  {
   "cell_type": "code",
   "execution_count": 60,
   "metadata": {},
   "outputs": [],
   "source": [
    "# Write a new class OlsGd which solves the problem using gradient descent. \n",
    "# The class should get as a parameter the learning rate and number of iteration. \n",
    "# Plot the loss convergance. for each alpha, learning rate plot the MSE with respect to number of iterations.\n",
    "# What is the effect of learning rate? \n",
    "# How would you find number of iteration automatically? \n",
    "# Note: Gradient Descent does not work well when features are not scaled evenly (why?!). Be sure to normalize your feature first.\n",
    "class Normalizer(Ols):\n",
    "  def __init__(self):\n",
    "    pass\n",
    "\n",
    "  def fit(self, X):\n",
    "    return np.array(X)\n",
    "\n",
    "  def predict(self, X):\n",
    "    self.X = self.fit(X)\n",
    "    self.norm = self.X = (self.X - self.X.mean()) / self.X.std()\n",
    "    # self.norm = (X - X.min() )/ (X.max() - X.min())\n",
    "\n",
    "    return self.norm\n",
    "\n",
    "class OlsGd(Ols):\n",
    "  \n",
    "  def __init__(self, learning_rate=0.05, \n",
    "               num_iteration=100000, #changed to 10,000 for better results\n",
    "               normalize=True,\n",
    "               early_stop=True,\n",
    "               verbose=True):\n",
    "    \n",
    "    super(OlsGd, self).__init__()\n",
    "    self.learning_rate = learning_rate\n",
    "    self.num_iteration = num_iteration\n",
    "    self.early_stop = early_stop\n",
    "    self.normalize = normalize\n",
    "    self.normalizer = Normalizer()    \n",
    "    self.verbose = verbose\n",
    "    #Would like to have check if numpy was imported already\n",
    "\n",
    "  def _fit(self, X, Y, reset=True, track_loss=True):\n",
    "    #remeber to normalize the data before starting. \"Can set IF normalizer =True do GS, else return OLS\"\n",
    "    self.X = self.pad(self.normalizer.predict(X))  # Add padding after the normalizer\n",
    "    # self.X = self.pad(X)\n",
    "    self.MSE_log = []\n",
    "    self.Y = Y\n",
    "\n",
    "\n",
    "    self.w = np.random.normal(size = (self.X.shape[1])) #random initialization of W's\n",
    "    iteration = 0\n",
    "    while iteration < self.num_iteration:\n",
    "      self.w = self.w - (self.learning_rate * (1/self.Y.size) * self.X.T @ ((self.X @ self.w) - self.Y))\n",
    "                         #                         Normalize           X               Error\n",
    "      iteration +=1\n",
    "\n",
    "     \n",
    "      self.MSE_log.append(1/self.Y.size * np.sum(((self.X @ self.w) - self.Y)**2))\n",
    "    self.MSE = self.MSE_log[-1]\n",
    "\n",
    "\n",
    "  def _predict(self, X):\n",
    "    self.X = X\n",
    "    self.X = self.normalizer.predict(self.X)\n",
    "    self.labels = self.pad(self.X) @ self.w #added padding to make dimensionality equal to 14\n",
    "    \n",
    "  def _step(self, X, Y):\n",
    "    # use w update for gradient descent\n",
    "    pass"
   ]
  },
  {
   "cell_type": "code",
   "execution_count": 61,
   "metadata": {},
   "outputs": [
    {
     "data": {
      "text/plain": [
       "28.683041383319164"
      ]
     },
     "execution_count": 61,
     "metadata": {},
     "output_type": "execute_result"
    }
   ],
   "source": [
    "# X = grad.pad(X)\n",
    "grad = OlsGd()\n",
    "grad._fit(X,y)\n",
    "grad._predict(X)\n",
    "y_pred = grad.labels #Adding a pad here didn't help\n",
    "grad.MSE"
   ]
  },
  {
   "cell_type": "markdown",
   "metadata": {},
   "source": [
    "WARNING TO SELF:\n",
    "\n",
    "Becareful on the name of the methods.\n",
    "\n",
    "'_' before belongs to gradient descent, without the '_' does not!"
   ]
  },
  {
   "cell_type": "markdown",
   "metadata": {},
   "source": [
    "plotting the rate of convergence"
   ]
  },
  {
   "cell_type": "code",
   "execution_count": 62,
   "metadata": {},
   "outputs": [
    {
     "data": {
      "text/plain": [
       "Text(0.5, 0, 'Iterations')"
      ]
     },
     "execution_count": 62,
     "metadata": {},
     "output_type": "execute_result"
    },
    {
     "data": {
      "image/png": "[encoded data removed]",
      "text/plain": [
       "<Figure size 864x432 with 1 Axes>"
      ]
     },
     "metadata": {
      "needs_background": "light"
     },
     "output_type": "display_data"
    }
   ],
   "source": [
    "plt.figure(figsize = (12,6))\n",
    "plt.plot(range(grad.num_iteration), grad.MSE_log);\n",
    "plt.title('Change in Mean Squared Error over the iterations')\n",
    "plt.ylabel('MSE')\n",
    "plt.xlabel('Iterations')"
   ]
  },
  {
   "cell_type": "markdown",
   "metadata": {},
   "source": [
    "a) Effect of the Learning Rate: The learnging rate causes the MSE to decline very steeply in the beginning, while still being small enough to allow it to slowly converge and not \"overshoot\" the local minima. Instead of passing the iterations as an arguement, we could set a threshold level and pass early_stop as true. This would tell the gradient descent to break, after it stops imporving by more than the specified, incremental amount."
   ]
  },
  {
   "cell_type": "code",
   "execution_count": 63,
   "metadata": {},
   "outputs": [
    {
     "data": {
      "text/plain": [
       "<matplotlib.collections.PathCollection at 0x1bcfcc321c8>"
      ]
     },
     "execution_count": 63,
     "metadata": {},
     "output_type": "execute_result"
    },
    {
     "data": {
      "image/png": "[encoded data removed]",
      "text/plain": [
       "<Figure size 864x432 with 2 Axes>"
      ]
     },
     "metadata": {
      "needs_background": "light"
     },
     "output_type": "display_data"
    }
   ],
   "source": [
    "import matplotlib.pyplot as plt\n",
    "\n",
    "fig = plt.figure(figsize= (12,6))\n",
    "plt.subplot(1,2,1)\n",
    "plt.scatter(y ,y_pred)\n",
    "\n",
    "plt.subplot(1,2,2)\n",
    "reg = LinearRegression().fit(X,y)\n",
    "pred = reg.predict(X)\n",
    "plt.scatter(y, pred)"
   ]
  },
  {
   "cell_type": "code",
   "execution_count": 79,
   "metadata": {},
   "outputs": [
    {
     "data": {
      "image/png": "[encoded data removed]",
      "text/plain": [
       "<Figure size 432x288 with 1 Axes>"
      ]
     },
     "metadata": {
      "needs_background": "light"
     },
     "output_type": "display_data"
    }
   ],
   "source": [
    "for i in [0.001,0.005,0.01,0.05, 0.01]:\n",
    "    grad = OlsGd(learning_rate=i,num_iteration=1000)\n",
    "    grad._fit(X,y)\n",
    "    y_pred= grad._predict(X)\n",
    "    lab='rate = '+str(i)\n",
    "    plt.plot(range(grad.num_iteration), np.log(grad.MSE_log), label=lab)\n",
    "    \n",
    "  \n",
    "plt.xlabel('iterations')\n",
    "plt.ylabel('log MSE')\n",
    "plt.title(\"log MSE for Gradient Descent\")\n",
    "  \n",
    "# Adding legend, which helps us recognize the curve according to it's color\n",
    "plt.legend()\n",
    "  \n",
    "# To load the display window\n",
    "plt.show()"
   ]
  }
 ],
 "metadata": {
  "colab": {
   "collapsed_sections": [],
   "name": "Regression & Regularization - Exercise.ipynb",
   "provenance": []
  },
  "kernelspec": {
   "display_name": "Python 3",
   "language": "python",
   "name": "python3"
  },
  "language_info": {
   "codemirror_mode": {
    "name": "ipython",
    "version": 3
   },
   "file_extension": ".py",
   "mimetype": "text/x-python",
   "name": "python",
   "nbconvert_exporter": "python",
   "pygments_lexer": "ipython3",
   "version": "3.7.10"
  }
 },
 "nbformat": 4,
 "nbformat_minor": 1
}
